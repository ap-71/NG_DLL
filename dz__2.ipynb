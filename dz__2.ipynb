{
 "cells": [
  {
   "cell_type": "code",
   "execution_count": 1,
   "metadata": {},
   "outputs": [],
   "source": [
    "import time\n",
    "import torch\n",
    "from torchvision import datasets, transforms\n",
    "from torch import nn\n",
    "%matplotlib inline"
   ]
  },
  {
   "cell_type": "code",
   "execution_count": 40,
   "metadata": {},
   "outputs": [
    {
     "data": {
      "text/plain": [
       "(torch.Size([1, 28, 28]), 'cuda')"
      ]
     },
     "execution_count": 40,
     "metadata": {},
     "output_type": "execute_result"
    }
   ],
   "source": [
    "BATCH_SIZE=256\n",
    "\n",
    "device = 'cuda' if torch.cuda.is_available() else 'cpu'\n",
    "# device = 'cpu'\n",
    "\n",
    "train_dataset = datasets.FashionMNIST('./DSDZ2', train=True, transform=transforms.ToTensor(), download=True)\n",
    "test_dataset = datasets.FashionMNIST('./DSDZ2', train=False, transform=transforms.ToTensor(), download=True)\n",
    "train = torch.utils.data.DataLoader(train_dataset, batch_size=BATCH_SIZE, shuffle = True)\n",
    "test = torch.utils.data.DataLoader(test_dataset, batch_size=BATCH_SIZE, shuffle = False)\n",
    "\n",
    "train_dataset[0][0].shape, device"
   ]
  },
  {
   "cell_type": "code",
   "execution_count": 34,
   "metadata": {},
   "outputs": [],
   "source": [
    "def train_model(**kwargs) -> None:\n",
    "    loss_ = kwargs['loss']\n",
    "    trainer_ = kwargs['trainer']\n",
    "    num_epochs_ = kwargs['num_epochs']\n",
    "    model_ = kwargs['model']\n",
    "    train_ = kwargs['train']\n",
    "    test_ = kwargs['test']\n",
    "    device_ = kwargs['device']\n",
    "    \n",
    "    for ep in range(num_epochs_):\n",
    "        train_iters, train_passed  = 0, 0\n",
    "        train_loss, train_acc = 0., 0.\n",
    "        start=time.time()\n",
    "        \n",
    "        model_.train()\n",
    "        for X, y in train_:\n",
    "            X, y = X.to(device_), y.to(device_)\n",
    "            trainer_.zero_grad()\n",
    "            y_pred = model_(X)\n",
    "            l = loss_(y_pred, y)\n",
    "            l.backward()\n",
    "            trainer_.step()\n",
    "            train_loss += l.item()\n",
    "            train_acc += (y_pred.argmax(dim=1) == y).sum().item()\n",
    "            train_iters += 1\n",
    "            train_passed += len(X)\n",
    "        \n",
    "        test_iters, test_passed  = 0, 0\n",
    "        test_loss, test_acc = 0., 0.\n",
    "        model_.eval()\n",
    "        for X, y in test_:\n",
    "            X, y = X.to(device_), y.to(device_)\n",
    "            y_pred = model_(X)\n",
    "            l = loss_(y_pred, y)\n",
    "            test_loss += l.item()\n",
    "            test_acc += (y_pred.argmax(dim=1) == y).sum().item()\n",
    "            test_iters += 1\n",
    "            test_passed += len(X)\n",
    "            \n",
    "        print(\"ep: {}, taked: {:.3f}, train_loss: {}, train_acc: {}, test_loss: {}, test_acc: {}\".format(\n",
    "            ep, time.time() - start, train_loss / train_iters, train_acc / train_passed,\n",
    "            test_loss / test_iters, test_acc / test_passed)\n",
    "        )"
   ]
  },
  {
   "cell_type": "code",
   "execution_count": 38,
   "metadata": {},
   "outputs": [
    {
     "name": "stdout",
     "output_type": "stream",
     "text": [
      "ep: 0, taked: 18.066, train_loss: 0.44568875165695837, train_acc: 0.8390333333333333, test_loss: 0.4661523785442114, test_acc: 0.8344\n",
      "ep: 1, taked: 17.778, train_loss: 0.3269379487063022, train_acc: 0.8801, test_loss: 0.418378297239542, test_acc: 0.8507\n",
      "ep: 2, taked: 17.921, train_loss: 0.29261100412683283, train_acc: 0.8923166666666666, test_loss: 0.3570056758821011, test_acc: 0.8702\n",
      "ep: 3, taked: 17.934, train_loss: 0.2679370835106424, train_acc: 0.9009333333333334, test_loss: 0.35521307922899725, test_acc: 0.8719\n",
      "ep: 4, taked: 17.935, train_loss: 0.24940649607080095, train_acc: 0.90785, test_loss: 0.38932172060012815, test_acc: 0.8525\n",
      "ep: 5, taked: 17.813, train_loss: 0.2326535573665132, train_acc: 0.9135833333333333, test_loss: 0.333658261410892, test_acc: 0.8785\n",
      "ep: 6, taked: 17.980, train_loss: 0.22187178274418445, train_acc: 0.9183666666666667, test_loss: 0.3391524847596884, test_acc: 0.8808\n",
      "ep: 7, taked: 17.971, train_loss: 0.20836360727218872, train_acc: 0.9225666666666666, test_loss: 0.3555117005482316, test_acc: 0.8726\n",
      "ep: 8, taked: 18.047, train_loss: 0.19736987013132015, train_acc: 0.9261666666666667, test_loss: 0.38299564085900784, test_acc: 0.8708\n",
      "ep: 9, taked: 17.928, train_loss: 0.18804429858288865, train_acc: 0.9293833333333333, test_loss: 0.3639118510298431, test_acc: 0.8689\n",
      "ep: 10, taked: 17.865, train_loss: 0.17648108097467016, train_acc: 0.9350666666666667, test_loss: 0.33237171517685055, test_acc: 0.8806\n",
      "ep: 11, taked: 17.885, train_loss: 0.16855572788639273, train_acc: 0.9385, test_loss: 0.3783648177981377, test_acc: 0.874\n",
      "ep: 12, taked: 17.879, train_loss: 0.160308153705394, train_acc: 0.9408666666666666, test_loss: 0.36683866679668425, test_acc: 0.8786\n",
      "ep: 13, taked: 17.932, train_loss: 0.15409921708893268, train_acc: 0.9439333333333333, test_loss: 0.3775566842406988, test_acc: 0.8737\n",
      "ep: 14, taked: 17.871, train_loss: 0.14732225660948042, train_acc: 0.9465833333333333, test_loss: 0.4390254832804203, test_acc: 0.8601\n",
      "ep: 15, taked: 17.991, train_loss: 0.1390263207415317, train_acc: 0.9492166666666667, test_loss: 0.35140748135745525, test_acc: 0.8866\n",
      "ep: 16, taked: 17.821, train_loss: 0.13148342462930274, train_acc: 0.9523166666666667, test_loss: 0.3346984843723476, test_acc: 0.8916\n",
      "ep: 17, taked: 18.573, train_loss: 0.12548835789586635, train_acc: 0.9550666666666666, test_loss: 0.33968581110239027, test_acc: 0.8922\n",
      "ep: 18, taked: 17.897, train_loss: 0.12048398048636762, train_acc: 0.9565833333333333, test_loss: 0.35219456180930137, test_acc: 0.8907\n",
      "ep: 19, taked: 18.102, train_loss: 0.1148584044994192, train_acc: 0.9585, test_loss: 0.39048837991431357, test_acc: 0.8678\n"
     ]
    }
   ],
   "source": [
    "model = torch.nn.Sequential(\n",
    "    torch.nn.Flatten(),\n",
    "    torch.nn.Linear(784, 392),\n",
    "    torch.nn.ReLU(),\n",
    "    torch.nn.BatchNorm1d(392),\n",
    "    torch.nn.Linear(392, 196),\n",
    "    torch.nn.ReLU(),\n",
    "    torch.nn.BatchNorm1d(196),\n",
    "    torch.nn.Linear(196, 10)\n",
    ")\n",
    "model = model.to(device)\n",
    "\n",
    "train_model(\n",
    "    loss=torch.nn.CrossEntropyLoss(),\n",
    "    trainer=torch.optim.Adagrad(model.parameters(), lr=.01),\n",
    "    num_epochs=20,\n",
    "    model=model,\n",
    "    train=train,\n",
    "    test=test,\n",
    "    device=device\n",
    ")"
   ]
  },
  {
   "cell_type": "code",
   "execution_count": 41,
   "metadata": {},
   "outputs": [
    {
     "name": "stdout",
     "output_type": "stream",
     "text": [
      "ep: 0, taked: 21.369, train_loss: 0.6852187145263591, train_acc: 0.7434333333333333, test_loss: 0.47769091203808783, test_acc: 0.8201\n",
      "ep: 1, taked: 21.019, train_loss: 0.478857628969436, train_acc: 0.8227166666666667, test_loss: 0.4649372730404139, test_acc: 0.8219\n",
      "ep: 2, taked: 21.637, train_loss: 0.43876933024284687, train_acc: 0.8407, test_loss: 0.435917592048645, test_acc: 0.8438\n",
      "ep: 3, taked: 21.463, train_loss: 0.4190906655281148, train_acc: 0.8467166666666667, test_loss: 0.41792860329151155, test_acc: 0.837\n",
      "ep: 4, taked: 22.340, train_loss: 0.3988557479483016, train_acc: 0.8548333333333333, test_loss: 0.37064841128885745, test_acc: 0.8627\n",
      "ep: 5, taked: 25.334, train_loss: 0.37980081997019177, train_acc: 0.8626, test_loss: 0.3662508435547352, test_acc: 0.8642\n",
      "ep: 6, taked: 22.209, train_loss: 0.3720552348710121, train_acc: 0.8626, test_loss: 0.3686878360807896, test_acc: 0.8627\n",
      "ep: 7, taked: 22.046, train_loss: 0.3646602376344356, train_acc: 0.8671333333333333, test_loss: 0.36341100484132766, test_acc: 0.8621\n",
      "ep: 8, taked: 25.152, train_loss: 0.3575741943526775, train_acc: 0.8681666666666666, test_loss: 0.3545209601521492, test_acc: 0.8653\n",
      "ep: 9, taked: 22.034, train_loss: 0.34604442544440006, train_acc: 0.8731166666666667, test_loss: 0.34991004019975663, test_acc: 0.8733\n",
      "ep: 10, taked: 22.264, train_loss: 0.3397861468665143, train_acc: 0.8748166666666667, test_loss: 0.3383721884340048, test_acc: 0.8779\n",
      "ep: 11, taked: 22.083, train_loss: 0.33487884560798076, train_acc: 0.8759333333333333, test_loss: 0.3369348838925362, test_acc: 0.8762\n",
      "ep: 12, taked: 23.751, train_loss: 0.3281489619549285, train_acc: 0.8794833333333333, test_loss: 0.32922808043658736, test_acc: 0.8746\n",
      "ep: 13, taked: 21.968, train_loss: 0.32751963753649527, train_acc: 0.8779666666666667, test_loss: 0.3394198723137379, test_acc: 0.8736\n",
      "ep: 14, taked: 23.349, train_loss: 0.32016969494363096, train_acc: 0.8811333333333333, test_loss: 0.3339085277169943, test_acc: 0.8782\n",
      "ep: 15, taked: 21.446, train_loss: 0.3182809140453947, train_acc: 0.8819333333333333, test_loss: 0.325705735757947, test_acc: 0.8828\n",
      "ep: 16, taked: 21.387, train_loss: 0.3146709140310896, train_acc: 0.88375, test_loss: 0.3245143715292215, test_acc: 0.8844\n",
      "ep: 17, taked: 21.805, train_loss: 0.3043367624916929, train_acc: 0.88705, test_loss: 0.32267806604504584, test_acc: 0.8819\n",
      "ep: 18, taked: 21.683, train_loss: 0.3008624020409077, train_acc: 0.8875166666666666, test_loss: 0.330918026342988, test_acc: 0.8806\n",
      "ep: 19, taked: 20.952, train_loss: 0.29909637234312425, train_acc: 0.88865, test_loss: 0.31379306837916376, test_acc: 0.8867\n"
     ]
    }
   ],
   "source": [
    "model = torch.nn.Sequential(\n",
    "    nn.Flatten(),\n",
    "    nn.Linear(784, 1568),\n",
    "    nn.ReLU(),\n",
    "    nn.Dropout(0.5),\n",
    "    nn.Linear(1568, 784),\n",
    "    nn.ReLU(),\n",
    "    nn.Dropout(0.5),\n",
    "    nn.Linear(784, 392),\n",
    "    nn.ReLU(),\n",
    "    nn.BatchNorm1d(392),\n",
    "    nn.Linear(392, 10)\n",
    ")\n",
    "model = model.to(device)\n",
    "\n",
    "train_model(\n",
    "    loss=torch.nn.CrossEntropyLoss(),\n",
    "    trainer=torch.optim.Adam(model.parameters(), lr=.01),\n",
    "    num_epochs=20,\n",
    "    model=model,\n",
    "    train=train,\n",
    "    test=test,\n",
    "    device=device\n",
    ")"
   ]
  }
 ],
 "metadata": {
  "kernelspec": {
   "display_name": ".venv",
   "language": "python",
   "name": "python3"
  },
  "language_info": {
   "codemirror_mode": {
    "name": "ipython",
    "version": 3
   },
   "file_extension": ".py",
   "mimetype": "text/x-python",
   "name": "python",
   "nbconvert_exporter": "python",
   "pygments_lexer": "ipython3",
   "version": "3.11.0"
  }
 },
 "nbformat": 4,
 "nbformat_minor": 2
}

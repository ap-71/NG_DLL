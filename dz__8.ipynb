{
  "cells": [
    {
      "cell_type": "markdown",
      "metadata": {
        "colab_type": "text",
        "id": "view-in-github"
      },
      "source": [
        "<a href=\"https://colab.research.google.com/github/dviva1972/denvlaiva/blob/master/dll_hw_8_10.ipynb\" target=\"_parent\"><img src=\"https://colab.research.google.com/assets/colab-badge.svg\" alt=\"Open In Colab\"/></a>"
      ]
    },
    {
      "cell_type": "markdown",
      "metadata": {
        "id": "Lbp9AnjfbCTf"
      },
      "source": [
        "### 1. Импорт библиотек"
      ]
    },
    {
      "cell_type": "code",
      "execution_count": 1,
      "metadata": {
        "id": "MIEGXF8oM9tt"
      },
      "outputs": [],
      "source": [
        "import pandas as pd\n",
        "import numpy as np\n",
        "import random\n",
        "import re\n",
        "import string\n",
        "from   itertools import product\n",
        "import unicodedata\n",
        "\n",
        "import torch\n",
        "import torch.nn as nn\n",
        "from   torch import optim\n",
        "import torch.nn.functional as F\n",
        "\n",
        "import time\n",
        "import math\n",
        "\n",
        "device = torch.device(\"cuda\" if torch.cuda.is_available() else \"cpu\")"
      ]
    },
    {
      "cell_type": "code",
      "execution_count": 2,
      "metadata": {
        "id": "U2u0oq5spS83"
      },
      "outputs": [],
      "source": [
        "# Visualisation\n",
        "import matplotlib as mpl\n",
        "import matplotlib.pyplot as plt\n",
        "import matplotlib.ticker as ticker\n",
        "import seaborn as sns\n",
        "%matplotlib inline\n",
        "plt.switch_backend('agg')"
      ]
    },
    {
      "cell_type": "markdown",
      "metadata": {
        "id": "CDNF5crkbNj-"
      },
      "source": [
        "### 2. Импорт и предобработка текста"
      ]
    },
    {
      "cell_type": "code",
      "execution_count": 3,
      "metadata": {
        "colab": {
          "base_uri": "https://localhost:8080/"
        },
        "id": "twIcAJnyRkW-",
        "outputId": "651dc762-ab0b-4d4e-c829-c933da25e4f7"
      },
      "outputs": [
        {
          "name": "stdout",
          "output_type": "stream",
          "text": [
            "We need to uphold laws against discrimination — in hiring, and in housing, and in education, and in the criminal justice system. That is what our Constitution and our highest ideals require.\tНам нужно отстаивать законы против дискриминации при найме на работу, в жилищной сфере, в сфере образования и правоохранительной системе. Этого требуют наша Конституция и высшие идеалы.\tCC-BY 2.0 (France) Attribution: tatoeba.org #5762728 (BHO) & #6390439 (odexed)\n",
            "I've heard that you should never date anyone who is less than half your age plus seven. Tom is now 30 years old and Mary is 17. How many years will Tom need to wait until he can start dating Mary?\tЯ слышал, что никогда не следует встречаться с кем-то вдвое младше вас плюс семь лет. Тому 30 лет, a Мэри 17. Сколько лет Тому нужно ждать до тех пор, пока он сможет начать встречаться с Мэри?\tCC-BY 2.0 (France) Attribution: tatoeba.org #10068197 (CK) & #10644473 (notenoughsun)\n",
            "I do have one final ask of you as your president, the same thing I asked when you took a chance on me eight years ago. I'm asking you to believe, not in my ability to bring about change but in yours.\tУ меня же, как у вашего президента, есть к вам последняя просьба. Та же самая, что и восемь лет назад, когда вы оказали мне своё доверие. Я прошу вас верить, но не в мои способности добиться перемен, а в ваши.\tCC-BY 2.0 (France) Attribution: tatoeba.org #5762723 (BHO) & #6390123 (odexed)\n",
            "In today's world, we have to equip all our kids with an education that prepares them for success, regardless of what they look like, or how much their parents make, or the zip code that they live in.\tВ современном мире перед нами стоит задача дать всем нашим детям такое образование, которое настроит их на успех вне зависимости от того, как они выглядят, сколько зарабатывают их родители или какой у них почтовый индекс.\tCC-BY 2.0 (France) Attribution: tatoeba.org #3924477 (BHO) & #5968115 (odexed)\n",
            "Death is something that we're often discouraged to talk about or even think about, but I've realized that preparing for death is one of the most empowering things you can do. Thinking about death clarifies your life.\tСмерть - это зачастую то, разговоры или даже мысли о чем приводят в уныние, но я осознал, что готовность умереть наделяет силой, как ничто другое. Мысль о смерти вносит ясность в твою жизнь.\tCC-BY 2.0 (France) Attribution: tatoeba.org #1969892 (davearms) & #3231553 (kukla)\n",
            "At a moment when our economy is growing, our businesses are creating jobs at the fastest pace since the 1990s, and wages are starting to rise again, we have to make some choices about the kind of country we want to be.\tВ тот момент, когда наша экономика растёт, наши предприятия создают рабочие места наибольшими темпами, начиная с 90-х годов, а зарплаты снова начинают расти, мы должны принять ряд решений относительно того, какой страной мы хотим быть.\tCC-BY 2.0 (France) Attribution: tatoeba.org #3924474 (BHO) & #4509418 (odexed)\n",
            "When I was younger, I hated going to weddings. My grandmothers and aunts would huddle around me, poke me in the side, and giggle \"You're next! You're next!\" They only stopped this nonsense when I began to do the same thing at funerals.\tКогда я была помоложе, я ненавидела ходить на свадьбы. Мои бабушки и тётки толпились вокруг, тыкали меня в бок и говорили, посмеиваясь: «Ты следующая! Ты следующая!». Они перестали нести этот вздор только тогда, когда я начала делать то же самое на похоронах.\tCC-BY 2.0 (France) Attribution: tatoeba.org #2776770 (AlanF_US) & #4311406 (odexed)\n",
            "Since there are usually multiple websites on any given topic, I usually just click the back button when I arrive on any webpage that has pop-up advertising. I just go to the next page found by Google and hope for something less irritating.\tПоскольку сайтов, посвящённых какой-либо теме, как правило, несколько, я обычно просто нажимаю на кнопку \"назад\", если попадаю на страницу со всплывающей рекламой. Я просто перехожу на следующую страницу, найденную гуглом, и надеюсь найти что-то менее раздражающее.\tCC-BY 2.0 (France) Attribution: tatoeba.org #954270 (CK) & #6383010 (odexed)\n",
            "If someone who doesn't know your background says that you sound like a native speaker, it means they probably noticed something about your speaking that made them realize you weren't a native speaker. In other words, you don't really sound like a native speaker.\tЕсли кто-то незнакомый говорит, что вы говорите как носитель языка, это значит, что он, вероятно, заметил что-то в вашей речи, что дало ему понять, что вы не носитель. Другими словами, вы не говорите как носитель.\tCC-BY 2.0 (France) Attribution: tatoeba.org #953936 (CK) & #10644468 (notenoughsun)\n",
            "Doubtless there exists in this world precisely the right woman for any given man to marry and vice versa; but when you consider that a human being has the opportunity of being acquainted with only a few hundred people, and out of the few hundred that there are but a dozen or less whom he knows intimately, and out of the dozen, one or two friends at most, it will easily be seen, when we remember the number of millions who inhabit this world, that probably, since the earth was created, the right man has never yet met the right woman.\tНесомненно, для каждого мужчины в этом мире где-то есть подходящая женщина, которая может стать ему женой, обратное верно и для женщин. Но если учесть, что у человека может быть максимум несколько сотен знакомых, из которых лишь дюжина, а то и меньше, тех, кого он знает близко, а из этой дюжины у него один или от силы два друга, то можно легко увидеть, что с учётом миллионов живущих на Земле людей, ни один подходящий мужчина, возможно, ещё не встретил подходящую женщину.\tCC-BY 2.0 (France) Attribution: tatoeba.org #7697649 (RM) & #7730831 (odexed)\n"
          ]
        }
      ],
      "source": [
        "!tail rus-eng/rus.txt"
      ]
    },
    {
      "cell_type": "code",
      "execution_count": 4,
      "metadata": {
        "id": "g94K3e3lqswm"
      },
      "outputs": [],
      "source": [
        "SOS_token = 0\n",
        "EOS_token = 1\n",
        "\n",
        "lang1 = 'eng'\n",
        "lang2 = 'rus'\n",
        "\n",
        "\n",
        "class Lang:\n",
        "    def __init__(self, name):\n",
        "        self.name = name\n",
        "        self.word2index = {}\n",
        "        self.word2count = {}\n",
        "        self.index2word = {0: \"SOS\", 1: \"EOS\"}\n",
        "        self.n_words = 2\n",
        "\n",
        "    def addSentence(self, sentence):\n",
        "        for word in sentence.split(' '):\n",
        "            self.addWord(word)\n",
        "\n",
        "    def addWord(self, word):\n",
        "        if word not in self.word2index:\n",
        "            self.word2index[word] = self.n_words\n",
        "            self.word2count[word] = 1\n",
        "            self.index2word[self.n_words] = word\n",
        "            self.n_words += 1\n",
        "        else:\n",
        "            self.word2count[word] += 1"
      ]
    },
    {
      "cell_type": "code",
      "execution_count": 5,
      "metadata": {
        "id": "WnnqsLRRqss2"
      },
      "outputs": [],
      "source": [
        "def unicodeToAscii(s):\n",
        "    return ''.join(\n",
        "        c for c in unicodedata.normalize('NFD', s)\n",
        "        if unicodedata.category(c) != 'Mn'\n",
        "    )\n",
        "\n",
        "\n",
        "def normalizeString(s):\n",
        "    s = unicodeToAscii(s.lower().strip())\n",
        "    s = re.sub(r\"([.!?])\", r\" \\1\", s)\n",
        "    s = re.sub(r\"[^a-zA-Zа-яА-ЯёЁ.!?]+\", r\" \", s)\n",
        "    return s"
      ]
    },
    {
      "cell_type": "code",
      "execution_count": 9,
      "metadata": {
        "id": "HY0bxTQXqspg"
      },
      "outputs": [],
      "source": [
        "def readLangs(lang1, lang2, reverse=False):\n",
        "    print(\"Reading lines...\")\n",
        "\n",
        "    lines = open('rus-eng/rus.txt', encoding='utf-8').read().strip().split('\\n')\n",
        "\n",
        "    pairs = [[normalizeString(s) for s in l.split('\\t')] for l in lines]\n",
        "\n",
        "    for p in pairs:\n",
        "        del p[2]\n",
        "    \n",
        "    if reverse:\n",
        "        pairs = [list(reversed(p)) for p in pairs]\n",
        "        input_lang = Lang(lang2)\n",
        "        output_lang = Lang(lang1)\n",
        "    else:\n",
        "        input_lang = Lang(lang1)\n",
        "        output_lang = Lang(lang2)\n",
        "\n",
        "    return input_lang, output_lang, pairs"
      ]
    },
    {
      "cell_type": "code",
      "execution_count": 10,
      "metadata": {
        "id": "1akHIbmYqsjg"
      },
      "outputs": [],
      "source": [
        "MAX_LENGTH = 10\n",
        "\n",
        "eng_prefixes = (\n",
        "    \"i am \", \"i m \",\n",
        "    \"he is\", \"he s \",\n",
        "    \"she is\", \"she s\",\n",
        "    \"you are\", \"you re \",\n",
        "    \"we are\", \"we re \",\n",
        "    \"they are\", \"they re \"\n",
        ")\n",
        "\n",
        "def filterPair(p, prefi, max_):\n",
        "    if prefi == None:\n",
        "        return  len(p[0].split(' ')) >3 and \\\n",
        "                len(p[1].split(' ')) >3 and \\\n",
        "                len(p[0].split(' ')) < max_ and \\\n",
        "                len(p[1].split(' ')) < max_ \n",
        "    else:\n",
        "        return  len(p[0].split(' ')) >3 and \\\n",
        "                len(p[1].split(' ')) >3 and \\\n",
        "                len(p[0].split(' ')) < max_ and \\\n",
        "                len(p[1].split(' ')) < max_ and \\\n",
        "                p[1].startswith(eng_prefixes)\n",
        "\n",
        "def filterPairs(pairs, pref, max_l):\n",
        "    return [pair for pair in pairs if filterPair(pair, pref, max_l)]"
      ]
    },
    {
      "cell_type": "code",
      "execution_count": 11,
      "metadata": {
        "colab": {
          "base_uri": "https://localhost:8080/"
        },
        "id": "UdiIFtCaqsgP",
        "outputId": "4c202c71-3482-4f79-c61f-62848429bc14"
      },
      "outputs": [
        {
          "name": "stdout",
          "output_type": "stream",
          "text": [
            "Reading lines...\n"
          ]
        },
        {
          "name": "stdout",
          "output_type": "stream",
          "text": [
            "Read 487600 sentence pairs\n",
            "Trimmed to 463867 sentence pairs\n",
            "Counting words...\n",
            "Counted words:\n",
            "rus 55846\n",
            "eng 16652\n",
            "['мы так и не узнали кто был тот человек .', 'we never found out who that man was .']\n"
          ]
        }
      ],
      "source": [
        "def prepareData(lang1, lang2, pre, max_le,  reverse=False):\n",
        "    input_lang, output_lang, pairs = readLangs(lang1, lang2, reverse)\n",
        "    print(\"Read %s sentence pairs\" % len(pairs))\n",
        "    pairs = filterPairs(pairs, pre, max_le)\n",
        "    print(\"Trimmed to %s sentence pairs\" % len(pairs))\n",
        "    print(\"Counting words...\")\n",
        "    for pair in pairs:\n",
        "        input_lang.addSentence(pair[0])\n",
        "        output_lang.addSentence(pair[1])\n",
        "    print(\"Counted words:\")\n",
        "    print(input_lang.name, input_lang.n_words)\n",
        "    print(output_lang.name, output_lang.n_words)\n",
        "    return input_lang, output_lang, pairs\n",
        "\n",
        "\n",
        "input_lang, output_lang, pairs = prepareData('eng', 'rus', None, 20, True)\n",
        "print(random.choice(pairs))"
      ]
    },
    {
      "cell_type": "code",
      "execution_count": 12,
      "metadata": {
        "id": "Xax3SDBKb17_"
      },
      "outputs": [],
      "source": [
        "def indexesFromSentence(lang, sentence):\n",
        "    return [lang.word2index[word] for word in sentence.split(' ')]\n",
        "\n",
        "\n",
        "def tensorFromSentence(lang, sentence):\n",
        "    indexes = indexesFromSentence(lang, sentence)\n",
        "    indexes.append(EOS_token)\n",
        "    return torch.tensor(indexes, dtype=torch.long, device=device).view(-1, 1)\n",
        "\n",
        "\n",
        "def tensorsFromPair(pair, input_l, output_l):\n",
        "    input_tensor = tensorFromSentence(input_l, pair[0])\n",
        "    target_tensor = tensorFromSentence(output_l, pair[1])\n",
        "    return (input_tensor, target_tensor)"
      ]
    },
    {
      "cell_type": "markdown",
      "metadata": {
        "id": "i1y41t4wbZlM"
      },
      "source": [
        "### 3. Архитектура сети"
      ]
    },
    {
      "cell_type": "markdown",
      "metadata": {
        "id": "vgtWqznCM9uH"
      },
      "source": [
        "#### 3.1. Encoder\n",
        "\n",
        "\n"
      ]
    },
    {
      "cell_type": "code",
      "execution_count": 13,
      "metadata": {
        "id": "FqukGu_qSGW9"
      },
      "outputs": [],
      "source": [
        "class EncoderRNN2(nn.Module):\n",
        "    def __init__(self, input_size, hidden_size, rnn_type):\n",
        "        super(EncoderRNN2, self).__init__()\n",
        "        self.hidden_size = hidden_size\n",
        "        self.embedding = nn.Embedding(input_size, hidden_size)\n",
        "        self.rnn = rnn_type(hidden_size, hidden_size)\n",
        "\n",
        "    def forward(self, input, hidden):\n",
        "        embedded = self.embedding(input).view(1, 1, -1)\n",
        "        output = embedded\n",
        "        output, hidden = self.rnn(output, hidden)\n",
        "        return output, hidden\n",
        "\n",
        "    def initHidden(self):\n",
        "        return torch.zeros(1, 1, self.hidden_size, device=device)"
      ]
    },
    {
      "cell_type": "markdown",
      "metadata": {
        "id": "FwLTlgSyM9uK"
      },
      "source": [
        "#### 3.2. Decoder - 1"
      ]
    },
    {
      "cell_type": "code",
      "execution_count": 14,
      "metadata": {
        "id": "_qR8FKQZRmQm"
      },
      "outputs": [],
      "source": [
        "class AttnDecoderRNN_mlp(nn.Module): \n",
        "    def __init__(\n",
        "        self, \n",
        "        hidden_size, \n",
        "        output_size, \n",
        "        rnn_type, \n",
        "        m_length,\n",
        "        dropout_p=0.1\n",
        "    ):\n",
        "        super(AttnDecoderRNN_mlp, self).__init__()\n",
        "        self.hidden_size = hidden_size\n",
        "        self.output_size = output_size\n",
        "        self.dropout_p   = dropout_p\n",
        "        self.max_length  = m_length\n",
        "        \n",
        "        self.embedding = nn.Embedding(self.output_size, self.hidden_size)\n",
        "        self.attn = nn.Linear(self.hidden_size * 2, self.max_length)\n",
        "        self.attn_combine= nn.Linear(self.hidden_size * 2, self.hidden_size)\n",
        "        self.dropout = nn.Dropout(self.dropout_p)\n",
        "        self.rnn = rnn_type(hidden_size, hidden_size)\n",
        "        self.out = nn.Linear(self.hidden_size, self.output_size)\n",
        "        self.rnn_t_n = rnn_type.__name__\n",
        "\n",
        "    def forward(self, input, hidden, encoder_outputs):\n",
        "        embedded = self.embedding(input).view(1, 1, -1)\n",
        "        embedded = self.dropout(embedded)\n",
        "\n",
        "        if self.rnn_t_n == 'LSTM':\n",
        "            attn_weights = F.softmax(self.attn(torch.cat((embedded[0], hidden[0][0]), 1)), dim=1)\n",
        "        else:\n",
        "            attn_weights = F.softmax(self.attn(torch.cat((embedded[0], hidden[0]), 1)), dim=1) \n",
        "             \n",
        "        attn_applied = torch.bmm(attn_weights.unsqueeze(0), encoder_outputs.unsqueeze(0))\n",
        "        output = torch.cat((embedded[0], attn_applied[0]), 1)\n",
        "        output = self.attn_combine(output).unsqueeze(0)\n",
        "\n",
        "        output = F.relu(output)\n",
        "        output, hidden = self.rnn(output, hidden)\n",
        "        \n",
        "        output = F.log_softmax(self.out(output[0]), dim=1)        \n",
        "        return output, hidden, attn_weights\n",
        "\n",
        "    def initHidden(self):\n",
        "        return torch.zeros(1, 1, self.hidden_size, device=device)"
      ]
    },
    {
      "cell_type": "markdown",
      "metadata": {
        "id": "wsmnpN2bcq0y"
      },
      "source": [
        "#### 3.3. Decoder - 2"
      ]
    },
    {
      "cell_type": "code",
      "execution_count": 15,
      "metadata": {
        "id": "lkS1uWk93EXX"
      },
      "outputs": [],
      "source": [
        "class AttnDecoderRNN_scalar(nn.Module):\n",
        "    def __init__(\n",
        "        self, \n",
        "        hidden_size, \n",
        "        output_size, \n",
        "        rnn_type, \n",
        "        m_length,\n",
        "        dropout_p=0.1\n",
        "    ):\n",
        "        super(AttnDecoderRNN_scalar, self).__init__()\n",
        "        self.hidden_size = hidden_size\n",
        "        self.output_size = output_size\n",
        "        self.dropout_p = dropout_p\n",
        "        self.max_length = m_length\n",
        "\n",
        "        self.embedding = nn.Embedding(self.output_size, self.hidden_size)\n",
        "        self.attn = nn.Linear(self.hidden_size * 2, self.max_length)\n",
        "        self.attn_combine = nn.Linear(self.hidden_size * 2, self.hidden_size)\n",
        "        self.dropout = nn.Dropout(self.dropout_p)\n",
        "        self.rnn = rnn_type(hidden_size, hidden_size)\n",
        "        self.out = nn.Linear(self.hidden_size, self.output_size)\n",
        "        self.rnn_t_n = rnn_type.__name__\n",
        "\n",
        "    def forward(self, input, hidden, encoder_outputs):\n",
        "        embedded = self.embedding(input).view(1, 1, -1)\n",
        "        embedded = self.dropout(embedded)\n",
        "\n",
        "        attn_weights = F.softmax((embedded[0] @ encoder_outputs.T) / self.max_length**0.5, dim=1)\n",
        "        attn_applied = torch.bmm(attn_weights.unsqueeze(0), encoder_outputs.unsqueeze(0))\n",
        "        \n",
        "        output = torch.cat((embedded[0], attn_applied[0]), 1)\n",
        "        output = self.attn_combine(output).unsqueeze(0)\n",
        "\n",
        "        output = F.relu(output)\n",
        "        output, hidden = self.rnn(output, hidden)\n",
        "\n",
        "        output = F.log_softmax(self.out(output[0]), dim=1)\n",
        "        \n",
        "        return output, hidden, attn_weights\n",
        "\n",
        "    def initHidden(self):\n",
        "        return torch.zeros(1, 1, self.hidden_size, device=device)"
      ]
    },
    {
      "cell_type": "markdown",
      "metadata": {
        "id": "PWJB9sIqeG4e"
      },
      "source": [
        "#### 3.4. Train + Teacher forcing"
      ]
    },
    {
      "cell_type": "code",
      "execution_count": 16,
      "metadata": {
        "id": "8Fn8VDv8M9uS"
      },
      "outputs": [],
      "source": [
        "def train(\n",
        "    input_tens, \n",
        "    target_tens, \n",
        "    encode, \n",
        "    decode, \n",
        "    encode_optimizer, \n",
        "    decode_optimizer, \n",
        "    criteri, \n",
        "    m__length, \n",
        "    rnn_ty,  \n",
        "    t_f_ratio\n",
        "):\n",
        "    if rnn_ty.__name__ == 'LSTM':\n",
        "        encoder_hidden = (encode.initHidden(), encode.initHidden())\n",
        "    else:\n",
        "        encoder_hidden = encode.initHidden()\n",
        "\n",
        "    encode_optimizer.zero_grad()\n",
        "    decode_optimizer.zero_grad()\n",
        "\n",
        "    input_length = input_tens.size(0)\n",
        "    target_length = target_tens.size(0)\n",
        "\n",
        "    encoder_outputs = torch.zeros(m__length, encode.hidden_size, device=device)\n",
        "    loss = 0\n",
        "\n",
        "    for ei in range(input_length):\n",
        "        encoder_output, encoder_hidden = encode(input_tens[ei], encoder_hidden)\n",
        "        encoder_outputs[ei] = encoder_output[0, 0]\n",
        "\n",
        "    decoder_input = torch.tensor([[SOS_token]], device=device)\n",
        "    decoder_hidden = encoder_hidden\n",
        "    \n",
        "    use_teacher_forcing = True if random.random() < t_f_ratio else False\n",
        "\n",
        "    if use_teacher_forcing:\n",
        "        for di in range(target_length):\n",
        "            decoder_output, decoder_hidden, decoder_attention = decode(decoder_input, decoder_hidden, encoder_outputs)\n",
        "            loss += criteri(decoder_output, target_tens[di])\n",
        "            decoder_input = target_tens[di]\n",
        "    else:\n",
        "        for di in range(target_length):\n",
        "            decoder_output, decoder_hidden, decoder_attention = decode(decoder_input, decoder_hidden, encoder_outputs)\n",
        "            topv, topi = decoder_output.topk(1)\n",
        "            decoder_input = topi.squeeze().detach()\n",
        "\n",
        "            loss += criteri(decoder_output, target_tens[di])\n",
        "            if decoder_input.item() == EOS_token:\n",
        "                break\n",
        "\n",
        "    loss.backward()\n",
        "\n",
        "    encode_optimizer.step()\n",
        "    decode_optimizer.step()\n",
        "\n",
        "    return loss.item() / target_length"
      ]
    },
    {
      "cell_type": "markdown",
      "metadata": {
        "id": "uLEY3Vv9egYf"
      },
      "source": [
        "#### 3.5. Train + iters"
      ]
    },
    {
      "cell_type": "code",
      "execution_count": 17,
      "metadata": {
        "id": "C_z_k5IiM9uX"
      },
      "outputs": [],
      "source": [
        "def trainIters(pair_sentenses, encoder, decoder, learning_rate, \n",
        "               n_iters, MAX_LENGTH, rnn_typ, teach_f_ratio, input_lan, output_lan,\n",
        "               print_every=5000, plot_every=500):\n",
        "    \n",
        "    start = time.time()\n",
        "    plot_losses = []\n",
        "    print_loss_total = 0\n",
        "    plot_loss_total = 0\n",
        "    print_loss_avg=0\n",
        "    print_loss_total_abs=0\n",
        "\n",
        "    encoder_optimizer = optim.SGD(encoder.parameters(), lr=learning_rate)\n",
        "    decoder_optimizer = optim.SGD(decoder.parameters(), lr=learning_rate)\n",
        "\n",
        "    training_pairs = [tensorsFromPair(random.choice(pair_sentenses), \n",
        "                                      input_lan, output_lan)\n",
        "                                      for i in range(n_iters)]\n",
        "    criterion = nn.NLLLoss()\n",
        "\n",
        "    for iter in range(1, n_iters + 1):\n",
        "        training_pair = training_pairs[iter - 1]\n",
        "        input_tensor = training_pair[0]\n",
        "        target_tensor = training_pair[1]\n",
        "\n",
        "        loss = train(input_tensor, target_tensor, encoder, decoder, \n",
        "                     encoder_optimizer, decoder_optimizer, criterion, \n",
        "                     MAX_LENGTH, rnn_typ,  teach_f_ratio)\n",
        "        print_loss_total += loss\n",
        "        plot_loss_total  += loss\n",
        "        print_loss_total_abs += loss\n",
        "\n",
        "        if iter % print_every == 0:\n",
        "            print_loss_avg = print_loss_total / print_every\n",
        "            print_loss_total = 0\n",
        "            print('%s (%d %d%%) %.4f' % (timeSince(start, iter / n_iters),\n",
        "                                         iter, iter / n_iters * 100, print_loss_avg))\n",
        "\n",
        "        if iter % plot_every == 0:\n",
        "            plot_loss_avg = plot_loss_total / plot_every\n",
        "            plot_losses.append(plot_loss_avg)\n",
        "            plot_loss_total = 0\n",
        "\n",
        "    return print_loss_avg"
      ]
    },
    {
      "cell_type": "markdown",
      "metadata": {
        "id": "i6krQ6s2euzs"
      },
      "source": [
        "#### 3.6. Evaluate"
      ]
    },
    {
      "cell_type": "code",
      "execution_count": 18,
      "metadata": {
        "id": "3Bxf45h6M9ud"
      },
      "outputs": [],
      "source": [
        "def evaluate(encode, decode, sentence, max_length, Rnn, inp_lang, out_lang):\n",
        "    with torch.no_grad():\n",
        "        input_tensor = tensorFromSentence(inp_lang, sentence)\n",
        "        input_length = input_tensor.size()[0]\n",
        "\n",
        "        if Rnn.__name__ == 'LSTM':\n",
        "            encoder_hidden = (encode.initHidden(), encode.initHidden())\n",
        "        else:\n",
        "            encoder_hidden = encode.initHidden()\n",
        "\n",
        "        encoder_outputs = torch.zeros(max_length, encode.hidden_size, device=device)\n",
        "\n",
        "        for ei in range(input_length):\n",
        "            encoder_output, encoder_hidden = encode(input_tensor[ei],\n",
        "                                                     encoder_hidden)\n",
        "            encoder_outputs[ei] += encoder_output[0, 0]\n",
        "\n",
        "        decoder_input = torch.tensor([[SOS_token]], device=device)  \n",
        "\n",
        "        decoder_hidden = encoder_hidden\n",
        "\n",
        "        decoded_words = []\n",
        "        decoder_attentions = torch.zeros(max_length, max_length)\n",
        "        \n",
        "        for di in range(max_length):\n",
        "            decoder_output, decoder_hidden, decoder_attention = decode(\n",
        "                                decoder_input, decoder_hidden, encoder_outputs)\n",
        "            decoder_attentions[di] = decoder_attention.data\n",
        "            topv, topi = decoder_output.data.topk(1)\n",
        "            if topi.item() == EOS_token:\n",
        "                decoded_words.append('<EOS>')\n",
        "                break\n",
        "            else:\n",
        "                decoded_words.append(out_lang.index2word[topi.item()])\n",
        "\n",
        "            decoder_input = topi.squeeze().detach()\n",
        "\n",
        "        return decoded_words, decoder_attentions[:di + 1]"
      ]
    },
    {
      "cell_type": "code",
      "execution_count": 19,
      "metadata": {
        "id": "1qUmQIGwM9uf"
      },
      "outputs": [],
      "source": [
        "def evaluateRandomly(pair_sen, encoder, decoder, MAX_LENGTH, \n",
        "                     rnn_, in_lang, o_lang,  n=10):\n",
        "    for i in range(n):\n",
        "        pair = random.choice(pair_sen)\n",
        "        print('>', pair[0])\n",
        "        print('=', pair[1])\n",
        "        output_words = evaluate(encoder, decoder, pair[0], MAX_LENGTH,  # output_words, attentions\n",
        "                                            rnn_, in_lang, o_lang)[0]\n",
        "        output_sentence = ' '.join(output_words)\n",
        "        print('<', output_sentence)\n",
        "        print('')"
      ]
    },
    {
      "cell_type": "markdown",
      "metadata": {
        "id": "qGykVYN2dXVf"
      },
      "source": [
        "#### 3.7. Вспомогательные функции"
      ]
    },
    {
      "cell_type": "code",
      "execution_count": 20,
      "metadata": {
        "id": "EKsdwPmSM9uU"
      },
      "outputs": [],
      "source": [
        "def asMinutes(s):\n",
        "    m = math.floor(s / 60)\n",
        "    s -= m * 60\n",
        "    return '%dm %ds' % (m, s)\n",
        "\n",
        "\n",
        "def timeSince(since, percent):\n",
        "    now = time.time()\n",
        "    s = now - since\n",
        "    es = s / (percent)\n",
        "    rs = es - s\n",
        "    return '%s (- %s)' % (asMinutes(s), asMinutes(rs))"
      ]
    },
    {
      "cell_type": "code",
      "execution_count": 21,
      "metadata": {
        "id": "Ecxd1Bo_1iuG"
      },
      "outputs": [],
      "source": [
        "def fine_table(table, title = None, x_l=None, y_l = None):\n",
        "    p_t = table\n",
        "    fig, ax = plt.subplots(figsize=(12,4))\n",
        "    sns.heatmap(p_t, \n",
        "                annot = True, \n",
        "                fmt ='.3', \n",
        "                cmap= 'YlGnBu', \n",
        "                linewidths=0.1, \n",
        "                linecolor='black'\n",
        "                )\n",
        "    plt.xticks(rotation=45)\n",
        "    plt.yticks(rotation=45)\n",
        "    plt.xlabel(x_l)\n",
        "    plt.ylabel(y_l)\n",
        "    plt.title(title)\n",
        "    i, k = ax.get_ylim()\n",
        "    ax.set_ylim(i+0.5, k-0.5)\n",
        "    plt.show()"
      ]
    },
    {
      "cell_type": "markdown",
      "metadata": {
        "id": "msFzE3vEdiUr"
      },
      "source": [
        "### 4. Обучение "
      ]
    },
    {
      "cell_type": "code",
      "execution_count": 22,
      "metadata": {
        "id": "l6NXeEdM9-xf"
      },
      "outputs": [],
      "source": [
        "eng_prefixes = (\n",
        "    \"i am \", \"i m \",\n",
        "    \"he is\", \"he s \",\n",
        "    \"she is\", \"she s\",\n",
        "    \"you are\", \"you re \",\n",
        "    \"we are\", \"we re \",\n",
        "    \"they are\", \"they re \"\n",
        ")\n",
        "\n",
        "rnn_types = [nn.LSTM, nn.RNN, nn.GRU] \n",
        "cols = ['Max_length', 'RNN_Type', 'Hidden_layers', 'Decoder', 'Loss']\n",
        "\n",
        "PATH8 = 'df__8__'"
      ]
    },
    {
      "cell_type": "code",
      "execution_count": 23,
      "metadata": {
        "id": "GxdFS2c1Ea-g"
      },
      "outputs": [],
      "source": [
        "def test_model_hw_8(max_length_sent, prefix, hidden_size = 256,\n",
        "                    learn_rate = 0.01, \n",
        "                    teach_force_ratio = 0.5, \n",
        "                    num_iters = 50000,  every = 1000, num_file = 999):\n",
        "    \n",
        "    input_lang_, output_lang_, pair_s = prepareData('eng', 'rus', prefix, max_length_sent, True)\n",
        "    \n",
        "    print(random.choice(pair_s))\n",
        "    \n",
        "    df = pd.DataFrame(columns= cols)\n",
        "\n",
        "    for rnn_type, decoder_ in product(rnn_types, range(2)):\n",
        "        print('\\nMax_length = ', max_length_sent)\n",
        "        print('\\nDecoder = ', decoder_ + 1)\n",
        "        print(f'{rnn_type.__name__}\\n\\ntraining')\n",
        "\n",
        "        encoder2 = EncoderRNN2(input_lang_.n_words, hidden_size, rnn_type).to(device)\n",
        "\n",
        "        att_dec_mllp  = AttnDecoderRNN_mlp(\n",
        "            hidden_size, \n",
        "            output_lang_.n_words, \n",
        "            rnn_type, \n",
        "            max_length_sent,dropout_p=0.1\n",
        "        ).to(device)\n",
        "        \n",
        "        att_dec_scalar = AttnDecoderRNN_scalar(\n",
        "            hidden_size, output_lang_.n_words, \n",
        "            rnn_type, \n",
        "            max_length_sent, dropout_p=0.1\n",
        "        ).to(device)\n",
        "\n",
        "        d_list = [att_dec_mllp, att_dec_scalar]\n",
        "        d_text = str(d_list[decoder_])\n",
        "\n",
        "        loss_= trainIters(\n",
        "            pair_s, \n",
        "            encoder2, \n",
        "            d_list[decoder_], \n",
        "            learn_rate, \n",
        "            num_iters, \n",
        "            max_length_sent,  \n",
        "            rnn_type, \n",
        "            teach_force_ratio, \n",
        "            input_lang_, \n",
        "            output_lang_, \n",
        "            every\n",
        "        )\n",
        "        print('\\nevaluate\\n')\n",
        "        evaluateRandomly(\n",
        "            pair_s, \n",
        "            encoder2, \n",
        "            d_list[decoder_], \n",
        "            max_length_sent, \n",
        "            rnn_type, \n",
        "            input_lang_, \n",
        "            output_lang_\n",
        "        )\n",
        "\n",
        "        string = [max_length_sent, rnn_type.__name__, 0, d_text, loss_]\n",
        "        df.loc[len(df)] = string\n",
        "        file_name  = PATH8 + str(num_file) + '.csv'\n",
        "        df.to_csv(file_name)"
      ]
    },
    {
      "cell_type": "markdown",
      "metadata": {
        "id": "ksVzm5ezfDCa"
      },
      "source": [
        "#### 4.1.  Модель 1 - Предложения по шаблону eng_prefixes от 3 до 20 слов / lr = 0.05"
      ]
    },
    {
      "cell_type": "code",
      "execution_count": null,
      "metadata": {
        "colab": {
          "base_uri": "https://localhost:8080/"
        },
        "id": "FIdEZ2CGVnK3",
        "outputId": "2ffd20e7-e91c-4542-a7a0-45490c4c74a2"
      },
      "outputs": [],
      "source": [
        "test_model_hw_8(\n",
        "    max_length_sent = 20, \n",
        "    prefix = eng_prefixes, \n",
        "    learn_rate = 0.05, \n",
        "    teach_force_ratio = 0.5,\n",
        "    num_iters = 75000,\n",
        "    every = 5000, \n",
        "    num_file = 'Att1'\n",
        ")"
      ]
    },
    {
      "cell_type": "code",
      "execution_count": null,
      "metadata": {
        "colab": {
          "base_uri": "https://localhost:8080/"
        },
        "id": "Rsq98naRfDid",
        "outputId": "eff2e7cd-0326-46e9-b368-f7d360af27c9"
      },
      "outputs": [],
      "source": [
        "dec= ['mlp', 'scalar']*3\n",
        "dec"
      ]
    },
    {
      "cell_type": "code",
      "execution_count": null,
      "metadata": {
        "colab": {
          "base_uri": "https://localhost:8080/",
          "height": 232
        },
        "id": "suyUXNKidx8d",
        "outputId": "3e9bf7c8-f2aa-47c6-bb8a-73d1ad880ece"
      },
      "outputs": [],
      "source": [
        "exp1 = pd.read_csv(PATH8+'Att1.csv').iloc[:,[1,2,4,5]]\n",
        "exp1['Decoder'] = dec\n",
        "exp1['learn_rate']= 0.05\n",
        "exp1 = exp1.iloc[:,[-1,0,1,2,3]]\n",
        "exp1"
      ]
    },
    {
      "cell_type": "markdown",
      "metadata": {
        "id": "Nr3Mc4jA4HiB"
      },
      "source": [
        "#### 4.2.  Модель 2 - Предложения длиной от 3 до до 7 слов все / без привязки к шаблону / lr = 0.05"
      ]
    },
    {
      "cell_type": "code",
      "execution_count": null,
      "metadata": {
        "colab": {
          "base_uri": "https://localhost:8080/"
        },
        "id": "W2Zr4vNGc6mt",
        "outputId": "0cf05a07-df0e-4df0-c756-364a3080b6b0"
      },
      "outputs": [],
      "source": [
        "test_model_hw_8(\n",
        "    max_length_sent = 7, \n",
        "    prefix = None,\n",
        "    learn_rate = 0.05, \n",
        "    teach_force_ratio = 0.5, \n",
        "    num_iters = 75000,  \n",
        "    every = 5000, \n",
        "    num_file ='Att2'\n",
        ")"
      ]
    },
    {
      "cell_type": "code",
      "execution_count": null,
      "metadata": {
        "colab": {
          "base_uri": "https://localhost:8080/",
          "height": 171
        },
        "id": "r7JDrfj7dNqL",
        "outputId": "bf358812-f390-475b-cbc6-de500c81b906"
      },
      "outputs": [],
      "source": [
        "exp2 = pd.read_csv(PATH8+'Att2.csv').iloc[:,[1,2,4,5]]\n",
        "exp2['Decoder'] = dec[:4]\n",
        "exp2['learn_rate']= 0.05\n",
        "exp2 = exp2.iloc[:,[-1,0,1,2,3]]\n",
        "exp2"
      ]
    },
    {
      "cell_type": "markdown",
      "metadata": {
        "id": "_DnJ3ENEdSj1"
      },
      "source": [
        "#### 4.3.  Модель 3 - Предложения длиной от 3 до 20 слов все / без привязки к шаблону  / lr = 0.05"
      ]
    },
    {
      "cell_type": "code",
      "execution_count": null,
      "metadata": {
        "colab": {
          "base_uri": "https://localhost:8080/"
        },
        "id": "UtEBhMRxgQd7",
        "outputId": "9f3be542-90c0-4501-cc34-4a50d9b5cba7"
      },
      "outputs": [],
      "source": [
        "test_model_hw_8(\n",
        "    max_length_sent = 20, \n",
        "    prefix = None,\n",
        "    learn_rate = 0.05, \n",
        "    teach_force_ratio = 0.5, \n",
        "    num_iters = 75000,  \n",
        "    every = 5000, \n",
        "    num_file ='Att3'\n",
        ")"
      ]
    },
    {
      "cell_type": "code",
      "execution_count": null,
      "metadata": {
        "colab": {
          "base_uri": "https://localhost:8080/",
          "height": 171
        },
        "id": "b3_Oq_0ydNw6",
        "outputId": "c6774419-bae7-450d-996d-bb4b253da03c"
      },
      "outputs": [],
      "source": [
        "exp3 = pd.read_csv(PATH8+'Att3.csv').iloc[:,[1,2,4,5]]\n",
        "exp3['Decoder'] = dec[:4]\n",
        "exp3['learn_rate']= 0.05\n",
        "exp3 = exp3.iloc[:,[-1,0,1,2,3]]\n",
        "exp3"
      ]
    },
    {
      "cell_type": "markdown",
      "metadata": {
        "id": "iOMEOxbrc6mw"
      },
      "source": [
        "#### 4.4.  Модель 4 - Предложения длиной от 3 до 20 слов все / без привязки к шаблону / lr = 0.001"
      ]
    },
    {
      "cell_type": "code",
      "execution_count": null,
      "metadata": {
        "colab": {
          "base_uri": "https://localhost:8080/"
        },
        "id": "gEza6nGugs6Y",
        "outputId": "089ad64c-2fa7-4143-82fc-62783083b0d0"
      },
      "outputs": [],
      "source": [
        "test_model_hw_8(\n",
        "    max_length_sent = 20, \n",
        "    prefix = None,\n",
        "    learn_rate = 0.001, \n",
        "    teach_force_ratio = 0.5, \n",
        "    num_iters = 75000,  \n",
        "    every = 5000, \n",
        "    num_file ='Att5'\n",
        ")"
      ]
    },
    {
      "cell_type": "code",
      "execution_count": null,
      "metadata": {
        "colab": {
          "base_uri": "https://localhost:8080/",
          "height": 171
        },
        "id": "wUhk_qLYdN3g",
        "outputId": "8bc3f843-4bae-43b6-8f96-aab602a15c8a"
      },
      "outputs": [],
      "source": [
        "exp4 = pd.read_csv(PATH8+'Att5.csv').iloc[:,[1,2,4,5]]\n",
        "exp4['Decoder'] = dec[:4]\n",
        "exp4['learn_rate'] = 0.001\n",
        "exp4 = exp4.iloc[:,[-1,0,1,2,3]]\n",
        "exp4"
      ]
    },
    {
      "cell_type": "markdown",
      "metadata": {
        "id": "LX_Y5mzghpgM"
      },
      "source": [
        "#### 4.5.  Модель 5 - Предложения длиной от 3 до 20 слов все / без привязки к шаблону / lr = 0.003"
      ]
    },
    {
      "cell_type": "code",
      "execution_count": null,
      "metadata": {
        "colab": {
          "base_uri": "https://localhost:8080/"
        },
        "id": "RAvj-F-GiBat",
        "outputId": "816b749e-7590-4e23-c235-107732cdb6d9"
      },
      "outputs": [],
      "source": [
        "test_model_hw_8(\n",
        "    max_length_sent = 20, \n",
        "    prefix = None,\n",
        "    learn_rate = 0.003, \n",
        "    teach_force_ratio = 0.5, \n",
        "    num_iters = 75000,  \n",
        "    every = 5000, \n",
        "    num_file ='Att6'\n",
        ")"
      ]
    },
    {
      "cell_type": "code",
      "execution_count": null,
      "metadata": {
        "colab": {
          "base_uri": "https://localhost:8080/",
          "height": 171
        },
        "id": "MeDDNpbOc50v",
        "outputId": "18346979-48ad-484b-80bf-ad9bcefdb1ca"
      },
      "outputs": [],
      "source": [
        "exp5 = pd.read_csv(PATH8+'Att6.csv').iloc[:,[1,2,4,5]]\n",
        "exp5['Decoder'] = dec[:4]\n",
        "exp5['learn_rate'] = 0.003\n",
        "exp5 = exp5.iloc[:,[-1,0,1,2,3]]\n",
        "exp5"
      ]
    },
    {
      "cell_type": "markdown",
      "metadata": {
        "id": "I_0UmxoRYuMG"
      },
      "source": [
        "#### 4.6.  Модель 6 - Предложения длиной от 1 до 20 слов / без привязки к шаблону / lr = 0.003"
      ]
    },
    {
      "cell_type": "code",
      "execution_count": null,
      "metadata": {
        "colab": {
          "base_uri": "https://localhost:8080/"
        },
        "id": "XnnjQhsZMKKT",
        "outputId": "7ba10dd9-0710-42fd-d3d2-b48b273ef6b4"
      },
      "outputs": [],
      "source": [
        "#  убираем фильтр до 3 слов\n",
        "test_model_hw_8(\n",
        "    max_length_sent = 20, \n",
        "    prefix = None,\n",
        "    learn_rate = 0.003, \n",
        "    teach_force_ratio = 0.5, \n",
        "    num_iters = 75000,  \n",
        "    every = 5000, \n",
        "    num_file ='Att7'\n",
        ")"
      ]
    },
    {
      "cell_type": "code",
      "execution_count": null,
      "metadata": {
        "colab": {
          "base_uri": "https://localhost:8080/",
          "height": 171
        },
        "id": "OeDS5hq0_qH6",
        "outputId": "073d2a98-0283-4d0c-919c-1c4358751a2d"
      },
      "outputs": [],
      "source": [
        "exp6 = pd.read_csv(PATH8+'Att7.csv').iloc[:,[1,2,4,5]]\n",
        "exp6['Decoder'] = dec[:4]\n",
        "exp6['learn_rate'] = 0.003\n",
        "exp6 = exp6.iloc[:,[-1,0,1,2,3]]\n",
        "exp6"
      ]
    },
    {
      "cell_type": "markdown",
      "metadata": {
        "id": "PhqUtdf4kOtL"
      },
      "source": [
        "### 5. Обобщение результатов экспериментов"
      ]
    },
    {
      "cell_type": "code",
      "execution_count": 22,
      "metadata": {
        "colab": {
          "base_uri": "https://localhost:8080/",
          "height": 845
        },
        "id": "3l0kfqPIkYRo",
        "outputId": "295d5209-fd7a-45f7-894c-bab2a8044cc2"
      },
      "outputs": [
        {
          "data": {
            "text/html": [
              "<div>\n",
              "<style scoped>\n",
              "    .dataframe tbody tr th:only-of-type {\n",
              "        vertical-align: middle;\n",
              "    }\n",
              "\n",
              "    .dataframe tbody tr th {\n",
              "        vertical-align: top;\n",
              "    }\n",
              "\n",
              "    .dataframe thead th {\n",
              "        text-align: right;\n",
              "    }\n",
              "</style>\n",
              "<table border=\"1\" class=\"dataframe\">\n",
              "  <thead>\n",
              "    <tr style=\"text-align: right;\">\n",
              "      <th></th>\n",
              "      <th>learn_rate</th>\n",
              "      <th>Max_length</th>\n",
              "      <th>RNN_Type</th>\n",
              "      <th>Decoder</th>\n",
              "      <th>Loss</th>\n",
              "    </tr>\n",
              "  </thead>\n",
              "  <tbody>\n",
              "    <tr>\n",
              "      <th>0</th>\n",
              "      <td>0.050</td>\n",
              "      <td>20</td>\n",
              "      <td>LSTM</td>\n",
              "      <td>mlp</td>\n",
              "      <td>1.630128</td>\n",
              "    </tr>\n",
              "    <tr>\n",
              "      <th>1</th>\n",
              "      <td>0.050</td>\n",
              "      <td>20</td>\n",
              "      <td>LSTM</td>\n",
              "      <td>scalar</td>\n",
              "      <td>1.684131</td>\n",
              "    </tr>\n",
              "    <tr>\n",
              "      <th>2</th>\n",
              "      <td>0.050</td>\n",
              "      <td>20</td>\n",
              "      <td>RNN</td>\n",
              "      <td>mlp</td>\n",
              "      <td>24.655075</td>\n",
              "    </tr>\n",
              "    <tr>\n",
              "      <th>3</th>\n",
              "      <td>0.050</td>\n",
              "      <td>20</td>\n",
              "      <td>RNN</td>\n",
              "      <td>scalar</td>\n",
              "      <td>17.377365</td>\n",
              "    </tr>\n",
              "    <tr>\n",
              "      <th>4</th>\n",
              "      <td>0.050</td>\n",
              "      <td>20</td>\n",
              "      <td>GRU</td>\n",
              "      <td>mlp</td>\n",
              "      <td>22.233171</td>\n",
              "    </tr>\n",
              "    <tr>\n",
              "      <th>5</th>\n",
              "      <td>0.050</td>\n",
              "      <td>20</td>\n",
              "      <td>GRU</td>\n",
              "      <td>scalar</td>\n",
              "      <td>3.147843</td>\n",
              "    </tr>\n",
              "    <tr>\n",
              "      <th>6</th>\n",
              "      <td>0.050</td>\n",
              "      <td>7</td>\n",
              "      <td>LSTM</td>\n",
              "      <td>mlp</td>\n",
              "      <td>2.374869</td>\n",
              "    </tr>\n",
              "    <tr>\n",
              "      <th>7</th>\n",
              "      <td>0.050</td>\n",
              "      <td>7</td>\n",
              "      <td>LSTM</td>\n",
              "      <td>scalar</td>\n",
              "      <td>2.324447</td>\n",
              "    </tr>\n",
              "    <tr>\n",
              "      <th>8</th>\n",
              "      <td>0.050</td>\n",
              "      <td>7</td>\n",
              "      <td>GRU</td>\n",
              "      <td>mlp</td>\n",
              "      <td>19.445005</td>\n",
              "    </tr>\n",
              "    <tr>\n",
              "      <th>9</th>\n",
              "      <td>0.050</td>\n",
              "      <td>7</td>\n",
              "      <td>GRU</td>\n",
              "      <td>scalar</td>\n",
              "      <td>15.190802</td>\n",
              "    </tr>\n",
              "    <tr>\n",
              "      <th>10</th>\n",
              "      <td>0.050</td>\n",
              "      <td>20</td>\n",
              "      <td>LSTM</td>\n",
              "      <td>mlp</td>\n",
              "      <td>2.994014</td>\n",
              "    </tr>\n",
              "    <tr>\n",
              "      <th>11</th>\n",
              "      <td>0.050</td>\n",
              "      <td>20</td>\n",
              "      <td>LSTM</td>\n",
              "      <td>scalar</td>\n",
              "      <td>3.025424</td>\n",
              "    </tr>\n",
              "    <tr>\n",
              "      <th>12</th>\n",
              "      <td>0.050</td>\n",
              "      <td>20</td>\n",
              "      <td>GRU</td>\n",
              "      <td>mlp</td>\n",
              "      <td>24.058059</td>\n",
              "    </tr>\n",
              "    <tr>\n",
              "      <th>13</th>\n",
              "      <td>0.050</td>\n",
              "      <td>20</td>\n",
              "      <td>GRU</td>\n",
              "      <td>scalar</td>\n",
              "      <td>28.091668</td>\n",
              "    </tr>\n",
              "    <tr>\n",
              "      <th>14</th>\n",
              "      <td>0.001</td>\n",
              "      <td>20</td>\n",
              "      <td>LSTM</td>\n",
              "      <td>mlp</td>\n",
              "      <td>3.834810</td>\n",
              "    </tr>\n",
              "    <tr>\n",
              "      <th>15</th>\n",
              "      <td>0.001</td>\n",
              "      <td>20</td>\n",
              "      <td>LSTM</td>\n",
              "      <td>scalar</td>\n",
              "      <td>3.813181</td>\n",
              "    </tr>\n",
              "    <tr>\n",
              "      <th>16</th>\n",
              "      <td>0.001</td>\n",
              "      <td>20</td>\n",
              "      <td>GRU</td>\n",
              "      <td>mlp</td>\n",
              "      <td>3.600392</td>\n",
              "    </tr>\n",
              "    <tr>\n",
              "      <th>17</th>\n",
              "      <td>0.001</td>\n",
              "      <td>20</td>\n",
              "      <td>GRU</td>\n",
              "      <td>scalar</td>\n",
              "      <td>3.739083</td>\n",
              "    </tr>\n",
              "    <tr>\n",
              "      <th>18</th>\n",
              "      <td>0.003</td>\n",
              "      <td>20</td>\n",
              "      <td>LSTM</td>\n",
              "      <td>mlp</td>\n",
              "      <td>3.265885</td>\n",
              "    </tr>\n",
              "    <tr>\n",
              "      <th>19</th>\n",
              "      <td>0.003</td>\n",
              "      <td>20</td>\n",
              "      <td>LSTM</td>\n",
              "      <td>scalar</td>\n",
              "      <td>3.280422</td>\n",
              "    </tr>\n",
              "    <tr>\n",
              "      <th>20</th>\n",
              "      <td>0.003</td>\n",
              "      <td>20</td>\n",
              "      <td>GRU</td>\n",
              "      <td>mlp</td>\n",
              "      <td>3.185217</td>\n",
              "    </tr>\n",
              "    <tr>\n",
              "      <th>21</th>\n",
              "      <td>0.003</td>\n",
              "      <td>20</td>\n",
              "      <td>GRU</td>\n",
              "      <td>scalar</td>\n",
              "      <td>3.181635</td>\n",
              "    </tr>\n",
              "    <tr>\n",
              "      <th>22</th>\n",
              "      <td>0.003</td>\n",
              "      <td>20</td>\n",
              "      <td>LSTM</td>\n",
              "      <td>mlp</td>\n",
              "      <td>3.347446</td>\n",
              "    </tr>\n",
              "    <tr>\n",
              "      <th>23</th>\n",
              "      <td>0.003</td>\n",
              "      <td>20</td>\n",
              "      <td>LSTM</td>\n",
              "      <td>scalar</td>\n",
              "      <td>3.288415</td>\n",
              "    </tr>\n",
              "    <tr>\n",
              "      <th>24</th>\n",
              "      <td>0.003</td>\n",
              "      <td>20</td>\n",
              "      <td>GRU</td>\n",
              "      <td>mlp</td>\n",
              "      <td>3.092382</td>\n",
              "    </tr>\n",
              "    <tr>\n",
              "      <th>25</th>\n",
              "      <td>0.003</td>\n",
              "      <td>20</td>\n",
              "      <td>GRU</td>\n",
              "      <td>scalar</td>\n",
              "      <td>3.204575</td>\n",
              "    </tr>\n",
              "  </tbody>\n",
              "</table>\n",
              "</div>"
            ],
            "text/plain": [
              "    learn_rate  Max_length RNN_Type Decoder       Loss\n",
              "0        0.050          20     LSTM     mlp   1.630128\n",
              "1        0.050          20     LSTM  scalar   1.684131\n",
              "2        0.050          20      RNN     mlp  24.655075\n",
              "3        0.050          20      RNN  scalar  17.377365\n",
              "4        0.050          20      GRU     mlp  22.233171\n",
              "5        0.050          20      GRU  scalar   3.147843\n",
              "6        0.050           7     LSTM     mlp   2.374869\n",
              "7        0.050           7     LSTM  scalar   2.324447\n",
              "8        0.050           7      GRU     mlp  19.445005\n",
              "9        0.050           7      GRU  scalar  15.190802\n",
              "10       0.050          20     LSTM     mlp   2.994014\n",
              "11       0.050          20     LSTM  scalar   3.025424\n",
              "12       0.050          20      GRU     mlp  24.058059\n",
              "13       0.050          20      GRU  scalar  28.091668\n",
              "14       0.001          20     LSTM     mlp   3.834810\n",
              "15       0.001          20     LSTM  scalar   3.813181\n",
              "16       0.001          20      GRU     mlp   3.600392\n",
              "17       0.001          20      GRU  scalar   3.739083\n",
              "18       0.003          20     LSTM     mlp   3.265885\n",
              "19       0.003          20     LSTM  scalar   3.280422\n",
              "20       0.003          20      GRU     mlp   3.185217\n",
              "21       0.003          20      GRU  scalar   3.181635\n",
              "22       0.003          20     LSTM     mlp   3.347446\n",
              "23       0.003          20     LSTM  scalar   3.288415\n",
              "24       0.003          20      GRU     mlp   3.092382\n",
              "25       0.003          20      GRU  scalar   3.204575"
            ]
          },
          "execution_count": 22,
          "metadata": {},
          "output_type": "execute_result"
        }
      ],
      "source": [
        "results = pd.concat([exp1, exp2, exp3, exp4, exp5, exp6]).reset_index(drop=True)\n",
        "results"
      ]
    },
    {
      "cell_type": "code",
      "execution_count": null,
      "metadata": {
        "colab": {
          "base_uri": "https://localhost:8080/",
          "height": 312
        },
        "id": "sjcLeQlNkt3w",
        "outputId": "14c5058b-3bc8-4dd7-ed5f-e670e4204f60"
      },
      "outputs": [
        {
          "data": {
            "image/png": "[encoded data removed]",
            "text/plain": [
              "<Figure size 864x288 with 2 Axes>"
            ]
          },
          "metadata": {
            "needs_background": "light"
          },
          "output_type": "display_data"
        }
      ],
      "source": [
        "temp_table = results[(results.index>1)&\n",
        "                     (results.index<22)&\n",
        "                     (results.Max_length==20)&\n",
        "                     (results.RNN_Type=='LSTM')]\n",
        "\n",
        "fine_table(\n",
        "    pd.pivot_table(\n",
        "        temp_table,\n",
        "        values  = 'Loss',\n",
        "        columns = 'learn_rate',\n",
        "        index   = 'Decoder',\n",
        "        aggfunc = 'max'\n",
        "    ), \n",
        "    title = 'Оценка качества модели LSTM', \n",
        "    x_l='learning rate', \n",
        "    y_l = 'Decoder_type')  "
      ]
    },
    {
      "cell_type": "code",
      "execution_count": null,
      "metadata": {
        "colab": {
          "base_uri": "https://localhost:8080/",
          "height": 312
        },
        "id": "Ss8I_E7QpLFY",
        "outputId": "52438837-a8b6-4732-ea3c-7c9caf1def7f"
      },
      "outputs": [
        {
          "data": {
            "image/png": "[encoded data removed]",
            "text/plain": [
              "<Figure size 864x288 with 2 Axes>"
            ]
          },
          "metadata": {
            "needs_background": "light"
          },
          "output_type": "display_data"
        }
      ],
      "source": [
        "temp_table = results[(results.index>1)&\n",
        "                     (results.index<22)&\n",
        "                     (results.Max_length==20)&\n",
        "                     (results.RNN_Type=='GRU')]\n",
        "\n",
        "fine_table(\n",
        "    pd.pivot_table(\n",
        "        temp_table,\n",
        "        values  = 'Loss',\n",
        "        columns = 'learn_rate',\n",
        "        index   = 'Decoder',\n",
        "        aggfunc = 'max'\n",
        "    ), \n",
        "    title = 'Оценка качества модели GRU', \n",
        "    x_l='learning rate', \n",
        "    y_l = 'Decoder_type')"
      ]
    },
    {
      "cell_type": "code",
      "execution_count": 20,
      "metadata": {
        "id": "xfHBJPphunoN"
      },
      "outputs": [],
      "source": [
        "temp_table = results[(results.index>1)&\n",
        "                     (results.index<22)&\n",
        "                     (results.Max_length==20)]\n",
        "\n",
        "fine_table(\n",
        "    pd.pivot_table(\n",
        "        temp_table,\n",
        "        values  = 'Loss',\n",
        "        columns = 'Decoder',\n",
        "        index   = ['RNN_Type', 'learn_rate'],\n",
        "        aggfunc = 'max'\n",
        "    ), \n",
        "    title = 'Оценка качества модели от типа декодера Attention', \n",
        "    x_l='Decoder_type', \n",
        "    y_l = 'RNN / learning rate')"
      ]
    },
    {
      "cell_type": "code",
      "execution_count": 21,
      "metadata": {
        "id": "4cqwR7h2v5HL"
      },
      "outputs": [],
      "source": [
        "temp_table = results[(results.index>1)&\n",
        "                     (results.index<22)&\n",
        "                     (results.Max_length==20)]\n",
        "\n",
        "fine_table(\n",
        "    pd.pivot_table(\n",
        "        temp_table,\n",
        "        values  = 'Loss',\n",
        "        columns = 'Decoder',\n",
        "        index   = ['RNN_Type', 'learn_rate'],\n",
        "        aggfunc = 'max'\n",
        "    ), \n",
        "    title = 'Оценка качества модели от типа декодера Attention', \n",
        "    x_l='Decoder_type', \n",
        "    y_l = 'RNN / learning rate')"
      ]
    },
    {
      "cell_type": "code",
      "execution_count": 39,
      "metadata": {
        "colab": {
          "base_uri": "https://localhost:8080/",
          "height": 78
        },
        "id": "9jEO563RLSnp",
        "outputId": "5b5bcf01-73f6-4825-dd75-0d9755af19a4"
      },
      "outputs": [
        {
          "data": {
            "text/html": [
              "<div>\n",
              "<style scoped>\n",
              "    .dataframe tbody tr th:only-of-type {\n",
              "        vertical-align: middle;\n",
              "    }\n",
              "\n",
              "    .dataframe tbody tr th {\n",
              "        vertical-align: top;\n",
              "    }\n",
              "\n",
              "    .dataframe thead th {\n",
              "        text-align: right;\n",
              "    }\n",
              "</style>\n",
              "<table border=\"1\" class=\"dataframe\">\n",
              "  <thead>\n",
              "    <tr style=\"text-align: right;\">\n",
              "      <th></th>\n",
              "      <th>learn_rate</th>\n",
              "      <th>Max_length</th>\n",
              "      <th>RNN_Type</th>\n",
              "      <th>Decoder</th>\n",
              "      <th>Loss</th>\n",
              "    </tr>\n",
              "  </thead>\n",
              "  <tbody>\n",
              "    <tr>\n",
              "      <th>2</th>\n",
              "      <td>0.05</td>\n",
              "      <td>20</td>\n",
              "      <td>RNN</td>\n",
              "      <td>mlp</td>\n",
              "      <td>24.655075</td>\n",
              "    </tr>\n",
              "  </tbody>\n",
              "</table>\n",
              "</div>"
            ],
            "text/plain": [
              "   learn_rate  Max_length RNN_Type Decoder       Loss\n",
              "2        0.05          20      RNN     mlp  24.655075"
            ]
          },
          "execution_count": 39,
          "metadata": {},
          "output_type": "execute_result"
        }
      ],
      "source": [
        "temp_table = results[(results.index>1)&\n",
        "                     (results.index<22)&\n",
        "                     (results.Max_length==20)]\n",
        "temp_table.head(1)"
      ]
    },
    {
      "cell_type": "code",
      "execution_count": 32,
      "metadata": {
        "id": "wapBhzf-LhaK"
      },
      "outputs": [],
      "source": [
        "fine_table(\n",
        "    pd.pivot_table(\n",
        "        temp_table,\n",
        "        values = 'Loss',\n",
        "        columns = 'Decoder',\n",
        "        index = ['RNN_Type', 'learn_rate'],\n",
        "        aggfunc = 'max'\n",
        "    ), \n",
        "    title = 'Оценка качества модели от типа декодера Attention', \n",
        "    x_l='Decoder_type', \n",
        "    y_l = 'RNN / learning rate')"
      ]
    },
    {
      "cell_type": "code",
      "execution_count": 38,
      "metadata": {
        "colab": {
          "base_uri": "https://localhost:8080/",
          "height": 294
        },
        "id": "gcFi5__eLkTP",
        "outputId": "a7c83178-5342-43b8-d8f7-aa72367ee1f6"
      },
      "outputs": [
        {
          "data": {
            "text/html": [
              "<div>\n",
              "<style scoped>\n",
              "    .dataframe tbody tr th:only-of-type {\n",
              "        vertical-align: middle;\n",
              "    }\n",
              "\n",
              "    .dataframe tbody tr th {\n",
              "        vertical-align: top;\n",
              "    }\n",
              "\n",
              "    .dataframe thead th {\n",
              "        text-align: right;\n",
              "    }\n",
              "</style>\n",
              "<table border=\"1\" class=\"dataframe\">\n",
              "  <thead>\n",
              "    <tr style=\"text-align: right;\">\n",
              "      <th></th>\n",
              "      <th>Decoder</th>\n",
              "      <th>mlp</th>\n",
              "      <th>scalar</th>\n",
              "    </tr>\n",
              "    <tr>\n",
              "      <th>RNN_Type</th>\n",
              "      <th>learn_rate</th>\n",
              "      <th></th>\n",
              "      <th></th>\n",
              "    </tr>\n",
              "  </thead>\n",
              "  <tbody>\n",
              "    <tr>\n",
              "      <th rowspan=\"3\" valign=\"top\">GRU</th>\n",
              "      <th>0.001</th>\n",
              "      <td>3.600392</td>\n",
              "      <td>3.739083</td>\n",
              "    </tr>\n",
              "    <tr>\n",
              "      <th>0.003</th>\n",
              "      <td>3.185217</td>\n",
              "      <td>3.181635</td>\n",
              "    </tr>\n",
              "    <tr>\n",
              "      <th>0.050</th>\n",
              "      <td>24.058059</td>\n",
              "      <td>28.091668</td>\n",
              "    </tr>\n",
              "    <tr>\n",
              "      <th rowspan=\"3\" valign=\"top\">LSTM</th>\n",
              "      <th>0.001</th>\n",
              "      <td>3.834810</td>\n",
              "      <td>3.813181</td>\n",
              "    </tr>\n",
              "    <tr>\n",
              "      <th>0.003</th>\n",
              "      <td>3.265885</td>\n",
              "      <td>3.280422</td>\n",
              "    </tr>\n",
              "    <tr>\n",
              "      <th>0.050</th>\n",
              "      <td>2.994014</td>\n",
              "      <td>3.025424</td>\n",
              "    </tr>\n",
              "    <tr>\n",
              "      <th>RNN</th>\n",
              "      <th>0.050</th>\n",
              "      <td>24.655075</td>\n",
              "      <td>17.377365</td>\n",
              "    </tr>\n",
              "  </tbody>\n",
              "</table>\n",
              "</div>"
            ],
            "text/plain": [
              "Decoder                    mlp     scalar\n",
              "RNN_Type learn_rate                      \n",
              "GRU      0.001        3.600392   3.739083\n",
              "         0.003        3.185217   3.181635\n",
              "         0.050       24.058059  28.091668\n",
              "LSTM     0.001        3.834810   3.813181\n",
              "         0.003        3.265885   3.280422\n",
              "         0.050        2.994014   3.025424\n",
              "RNN      0.050       24.655075  17.377365"
            ]
          },
          "execution_count": 38,
          "metadata": {},
          "output_type": "execute_result"
        }
      ],
      "source": [
        "pp = pd.pivot_table(\n",
        "   temp_table,\n",
        "   values  = 'Loss',\n",
        "   columns = 'Decoder',\n",
        "   index   = ['RNN_Type', 'learn_rate'],\n",
        "   aggfunc = 'max'\n",
        ")\n",
        "pp"
      ]
    }
  ],
  "metadata": {
    "accelerator": "GPU",
    "colab": {
      "collapsed_sections": [
        "CDNF5crkbNj-"
      ],
      "include_colab_link": true,
      "name": "dll_hw_8_10.ipynb",
      "provenance": []
    },
    "kernelspec": {
      "display_name": "Python 3",
      "name": "python3"
    },
    "language_info": {
      "codemirror_mode": {
        "name": "ipython",
        "version": 3
      },
      "file_extension": ".py",
      "mimetype": "text/x-python",
      "name": "python",
      "nbconvert_exporter": "python",
      "pygments_lexer": "ipython3",
      "version": "3.10.5"
    }
  },
  "nbformat": 4,
  "nbformat_minor": 0
}

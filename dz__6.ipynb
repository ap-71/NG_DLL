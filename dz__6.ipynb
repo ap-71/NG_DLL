{
  "cells": [
    {
      "cell_type": "code",
      "execution_count": 3,
      "metadata": {},
      "outputs": [
        {
          "data": {
            "text/plain": [
              "device(type='cpu')"
            ]
          },
          "execution_count": 3,
          "metadata": {},
          "output_type": "execute_result"
        }
      ],
      "source": [
        "import torch\n",
        "import pandas as pd\n",
        "from sklearn.model_selection import train_test_split\n",
        "import time\n",
        "import re\n",
        "import copy\n",
        "\n",
        "dev = torch.device(\"cuda\") if torch.cuda.is_available() else torch.device(\"cpu\")\n",
        "dev"
      ]
    },
    {
      "cell_type": "code",
      "execution_count": 4,
      "metadata": {},
      "outputs": [
        {
          "data": {
            "text/html": [
              "<div>\n",
              "<style scoped>\n",
              "    .dataframe tbody tr th:only-of-type {\n",
              "        vertical-align: middle;\n",
              "    }\n",
              "\n",
              "    .dataframe tbody tr th {\n",
              "        vertical-align: top;\n",
              "    }\n",
              "\n",
              "    .dataframe thead th {\n",
              "        text-align: right;\n",
              "    }\n",
              "</style>\n",
              "<table border=\"1\" class=\"dataframe\">\n",
              "  <thead>\n",
              "    <tr style=\"text-align: right;\">\n",
              "      <th></th>\n",
              "      <th>text_in</th>\n",
              "    </tr>\n",
              "  </thead>\n",
              "  <tbody>\n",
              "    <tr>\n",
              "      <th>0</th>\n",
              "      <td>maggie look whats that</td>\n",
              "    </tr>\n",
              "    <tr>\n",
              "      <th>1</th>\n",
              "      <td>lee mur lee mur</td>\n",
              "    </tr>\n",
              "    <tr>\n",
              "      <th>2</th>\n",
              "      <td>zee boo zee boo</td>\n",
              "    </tr>\n",
              "    <tr>\n",
              "      <th>3</th>\n",
              "      <td>im trying to teach maggie that nature doesnt e...</td>\n",
              "    </tr>\n",
              "    <tr>\n",
              "      <th>4</th>\n",
              "      <td>its like an ox only it has a hump and a dewlap...</td>\n",
              "    </tr>\n",
              "  </tbody>\n",
              "</table>\n",
              "</div>"
            ],
            "text/plain": [
              "                                             text_in\n",
              "0                             maggie look whats that\n",
              "1                                    lee mur lee mur\n",
              "2                                    zee boo zee boo\n",
              "3  im trying to teach maggie that nature doesnt e...\n",
              "4  its like an ox only it has a hump and a dewlap..."
            ]
          },
          "execution_count": 4,
          "metadata": {},
          "output_type": "execute_result"
        }
      ],
      "source": [
        "MAX_LEN = 50\n",
        "ABC = ['none'] + [w for w in set('abcdefghijklmnopqrstuvwxyz ')]\n",
        "CHAR_TO_INDEX = {w: i for i, w in enumerate(ABC)}\n",
        "INDEX_TO_CHAR = {i: w for i, w in enumerate(ABC)}\n",
        "\n",
        "df = pd.read_csv('data.csv').iloc[:,[-2]]\n",
        "df = df.dropna(subset=['normalized_text'])\n",
        "\n",
        "df['text_in'] = [' '.join(re.findall('[\\w]+', i)) for i in df['normalized_text']]\n",
        "\n",
        "df = df.iloc[:, 1:]\n",
        "df.head()"
      ]
    },
    {
      "cell_type": "code",
      "execution_count": 6,
      "metadata": {},
      "outputs": [],
      "source": [
        "def convert_to_torch(text):\n",
        "    output = torch.zeros((len(text), MAX_LEN), dtype=int)\n",
        "    for i in range(len(text)):\n",
        "        for j, w in enumerate(text[i]):\n",
        "            if j >= MAX_LEN:\n",
        "                break\n",
        "            output[i, j] = CHAR_TO_INDEX.get(w, CHAR_TO_INDEX['none'])\n",
        "\n",
        "    return output"
      ]
    },
    {
      "cell_type": "markdown",
      "metadata": {
        "id": "igTOFcH8nLS6"
      },
      "source": [
        "### Задание 1"
      ]
    },
    {
      "cell_type": "code",
      "execution_count": null,
      "metadata": {
        "id": "_s5nmF-WWe7Q"
      },
      "outputs": [],
      "source": [
        "def Сaesar(string, num):\n",
        "    output = ''\n",
        "    for c in string:\n",
        "        if c.isalpha():\n",
        "            new_num = ord(c) + num\n",
        "            if new_num > ord('z'):\n",
        "                new_num -= 26\n",
        "            output += chr(new_num)\n",
        "        else:\n",
        "            output += c\n",
        "    return output\n"
      ]
    },
    {
      "cell_type": "code",
      "execution_count": null,
      "metadata": {
        "colab": {
          "base_uri": "https://localhost:8080/",
          "height": 36
        },
        "id": "iGYUntY1Wlp6",
        "outputId": "fdab8125-b2a6-45df-f21c-35a8938188b3"
      },
      "outputs": [],
      "source": [
        "Сaesar('test', 2)"
      ]
    },
    {
      "cell_type": "code",
      "execution_count": null,
      "metadata": {
        "colab": {
          "base_uri": "https://localhost:8080/",
          "height": 206
        },
        "id": "GP-tqzp_Wr0X",
        "outputId": "4c045345-ca8c-47a3-f405-0802e5e07b84"
      },
      "outputs": [],
      "source": [
        "df['text_out'] = df['text_in'].apply(lambda v: Сaesar(v, 2))\n",
        "df.head()"
      ]
    },
    {
      "cell_type": "code",
      "execution_count": null,
      "metadata": {
        "id": "j1QDy1BrdYTB"
      },
      "outputs": [],
      "source": [
        "train, test = train_test_split(df, test_size=0.2)\n",
        "train_text = [[c for c in ph] for ph in train['text_out'] if type(ph) is str]\n",
        "train_label= [[c for c in ph] for ph in train['text_in'] if type(ph) is str]\n",
        "test_text   = [[c for c in ph] for ph in test['text_out'] if type(ph) is str]\n",
        "test_label  = [[c for c in ph] for ph in test['text_in'] if type(ph) is str]\n",
        "\n",
        "X_train= convert_to_torch(train_text)\n",
        "Y_train= convert_to_torch(train_label)\n",
        "X_test = convert_to_torch(test_text)\n",
        "Y_test = convert_to_torch(test_label)\n"
      ]
    },
    {
      "cell_type": "code",
      "execution_count": null,
      "metadata": {
        "id": "_c159g5DddGD"
      },
      "outputs": [],
      "source": [
        "class RNN_Network(torch.nn.Module):\n",
        "    def __init__(self):\n",
        "        super(RNN_Network, self).__init__()\n",
        "        self.embeddings = torch.nn.Embedding(len(ABC), 28)\n",
        "        self.rnn = torch.nn.RNN(28, 256, batch_first=True)\n",
        "        self.linear = torch.nn.Linear(256, 28)\n",
        "\n",
        "    def forward(self, sentences, state=None):\n",
        "        embds = self.embeddings(sentences)\n",
        "        out, new_state = self.rnn(embds, state)\n",
        "        result = self.linear(out)\n",
        "        return result, new_state\n"
      ]
    },
    {
      "cell_type": "code",
      "execution_count": null,
      "metadata": {
        "id": "W3JrIrOXdhvY"
      },
      "outputs": [],
      "source": [
        "model = RNN_Network().to(dev)\n",
        "criterion = torch.nn.CrossEntropyLoss()\n",
        "optimizer = torch.optim.Adam(model.parameters(), lr=0.0001)\n",
        "epochs = 40\n",
        "loss_best = 10**10\n",
        "model_best = None\n"
      ]
    },
    {
      "cell_type": "code",
      "execution_count": null,
      "metadata": {
        "colab": {
          "base_uri": "https://localhost:8080/"
        },
        "id": "YfRn55PXdq36",
        "outputId": "670ddce0-22b6-4647-fddf-144b0dced45e"
      },
      "outputs": [],
      "source": [
        "for epoch in range(epochs):\n",
        "    start = time.time()\n",
        "    train_loss = 0.\n",
        "    train_passed = 0\n",
        "    test_loss = 0\n",
        "    test_passed = 0\n",
        "\n",
        "    for i in range(int(len(X_train) / 100)):\n",
        "        X_batch = X_train[i * 100:(i + 1) * 100].to(dev)\n",
        "        Y_batch = Y_train[i * 100:(i + 1) * 100].flatten().to(dev)\n",
        "        model.train()\n",
        "        optimizer.zero_grad()\n",
        "        answers, _ = model.forward(X_batch)\n",
        "        answers = answers.view(-1, len(ABC))\n",
        "        loss = criterion(answers, Y_batch).to(dev)\n",
        "\n",
        "        if loss < loss_best:\n",
        "            model_best = copy.copy(model).to(dev)\n",
        "            loss_best = loss.to(dev)\n",
        "\n",
        "        train_loss += loss.item()\n",
        "        loss.backward()\n",
        "        optimizer.step()\n",
        "        train_passed += 1\n",
        "\n",
        "    with torch.no_grad():\n",
        "        model.eval()\n",
        "        answers, _ = model.forward(X_test.to(dev))\n",
        "        answers = answers.view(-1, len(ABC))\n",
        "        loss = criterion(answers, Y_test.flatten().to(dev))\n",
        "        test_loss += loss.item()\n",
        "        test_passed += 1\n",
        "\n",
        "    if epoch%1 == 0:\n",
        "        print(f\"Epoch {epoch}. Time: {time.time() - start:.3f}, Train loss: {train_loss / train_passed:.3f}, Test loss: {test_loss / test_passed:.6f}\")\n"
      ]
    },
    {
      "cell_type": "code",
      "execution_count": null,
      "metadata": {
        "colab": {
          "base_uri": "https://localhost:8080/"
        },
        "id": "S8cVXMXKiNK4",
        "outputId": "409cfb58-5e77-4497-ce4e-d2cda79fbecd"
      },
      "outputs": [],
      "source": [
        "loss_best\n"
      ]
    },
    {
      "cell_type": "code",
      "execution_count": null,
      "metadata": {
        "colab": {
          "base_uri": "https://localhost:8080/"
        },
        "id": "lTXC1I__iqPo",
        "outputId": "fc09cbf8-cbd0-4f89-a0e9-f9a0a7e101c0"
      },
      "outputs": [],
      "source": [
        "pred = convert_to_torch([[c for c in s] for s in df['text_out'] if type(s) is str])\n",
        "\n",
        "pred\n"
      ]
    },
    {
      "cell_type": "code",
      "execution_count": null,
      "metadata": {
        "colab": {
          "base_uri": "https://localhost:8080/"
        },
        "id": "LbxDNf8slOZd",
        "outputId": "24d47efe-2d64-4aa2-c1d6-7dd2b5c78083"
      },
      "outputs": [],
      "source": [
        "df_short = df.loc[:50]\n",
        "df_short.shape[0]\n"
      ]
    },
    {
      "cell_type": "code",
      "execution_count": null,
      "metadata": {
        "colab": {
          "base_uri": "https://localhost:8080/",
          "height": 1000
        },
        "id": "vV5oxv0Qjdt6",
        "outputId": "f6a6c9b9-b498-4708-a6a7-c27241ff0998"
      },
      "outputs": [],
      "source": [
        "texts = []\n",
        "for line in range(df_short.shape[0]):\n",
        "    str = ''\n",
        "\n",
        "    for i in model_best(pred.to(dev))[0][line].argmax(dim=1).detach():\n",
        "        str += INDEX_TO_CHAR[i.item()]\n",
        "\n",
        "    texts.append(str)\n",
        "\n",
        "df_short['predict'] = texts\n",
        "df_short\n"
      ]
    },
    {
      "cell_type": "markdown",
      "metadata": {
        "id": "-cpOnUZNnQ2t"
      },
      "source": [
        "### Задание 2"
      ]
    },
    {
      "cell_type": "code",
      "execution_count": 5,
      "metadata": {
        "colab": {
          "base_uri": "https://localhost:8080/",
          "height": 424
        },
        "id": "51uRhp75o5o5",
        "outputId": "5e867629-a463-43a4-e935-b2a5f0491e45"
      },
      "outputs": [
        {
          "data": {
            "text/html": [
              "<div>\n",
              "<style scoped>\n",
              "    .dataframe tbody tr th:only-of-type {\n",
              "        vertical-align: middle;\n",
              "    }\n",
              "\n",
              "    .dataframe tbody tr th {\n",
              "        vertical-align: top;\n",
              "    }\n",
              "\n",
              "    .dataframe thead th {\n",
              "        text-align: right;\n",
              "    }\n",
              "</style>\n",
              "<table border=\"1\" class=\"dataframe\">\n",
              "  <thead>\n",
              "    <tr style=\"text-align: right;\">\n",
              "      <th></th>\n",
              "      <th>text_in</th>\n",
              "    </tr>\n",
              "  </thead>\n",
              "  <tbody>\n",
              "    <tr>\n",
              "      <th>0</th>\n",
              "      <td>maggie look whats that</td>\n",
              "    </tr>\n",
              "    <tr>\n",
              "      <th>1</th>\n",
              "      <td>lee mur lee mur</td>\n",
              "    </tr>\n",
              "    <tr>\n",
              "      <th>2</th>\n",
              "      <td>zee boo zee boo</td>\n",
              "    </tr>\n",
              "    <tr>\n",
              "      <th>3</th>\n",
              "      <td>im trying to teach maggie that nature doesnt e...</td>\n",
              "    </tr>\n",
              "    <tr>\n",
              "      <th>4</th>\n",
              "      <td>its like an ox only it has a hump and a dewlap...</td>\n",
              "    </tr>\n",
              "    <tr>\n",
              "      <th>...</th>\n",
              "      <td>...</td>\n",
              "    </tr>\n",
              "    <tr>\n",
              "      <th>11634</th>\n",
              "      <td>too bad we didnt come dressed as popular carto...</td>\n",
              "    </tr>\n",
              "    <tr>\n",
              "      <th>11635</th>\n",
              "      <td>yeah mom guess what for a dollar a man sold me...</td>\n",
              "    </tr>\n",
              "    <tr>\n",
              "      <th>11636</th>\n",
              "      <td>hows it going bart</td>\n",
              "    </tr>\n",
              "    <tr>\n",
              "      <th>11637</th>\n",
              "      <td>maybe you need to play on their sympathies mor...</td>\n",
              "    </tr>\n",
              "    <tr>\n",
              "      <th>11638</th>\n",
              "      <td>ah ha now you look pathetic</td>\n",
              "    </tr>\n",
              "  </tbody>\n",
              "</table>\n",
              "<p>10891 rows × 1 columns</p>\n",
              "</div>"
            ],
            "text/plain": [
              "                                                 text_in\n",
              "0                                 maggie look whats that\n",
              "1                                        lee mur lee mur\n",
              "2                                        zee boo zee boo\n",
              "3      im trying to teach maggie that nature doesnt e...\n",
              "4      its like an ox only it has a hump and a dewlap...\n",
              "...                                                  ...\n",
              "11634  too bad we didnt come dressed as popular carto...\n",
              "11635  yeah mom guess what for a dollar a man sold me...\n",
              "11636                                 hows it going bart\n",
              "11637  maybe you need to play on their sympathies mor...\n",
              "11638                        ah ha now you look pathetic\n",
              "\n",
              "[10891 rows x 1 columns]"
            ]
          },
          "execution_count": 5,
          "metadata": {},
          "output_type": "execute_result"
        }
      ],
      "source": [
        "df"
      ]
    },
    {
      "cell_type": "code",
      "execution_count": 7,
      "metadata": {
        "colab": {
          "base_uri": "https://localhost:8080/"
        },
        "id": "Gzvx1TjrnV60",
        "outputId": "60feddc0-8ad5-472f-ba59-38685439c850"
      },
      "outputs": [
        {
          "data": {
            "text/plain": [
              "tensor([[ 3,  2, 26,  ...,  0,  0,  0],\n",
              "        [ 7, 22, 22,  ...,  0,  0,  0],\n",
              "        [11, 22, 22,  ...,  0,  0,  0],\n",
              "        ...,\n",
              "        [ 6, 15, 13,  ...,  0,  0,  0],\n",
              "        [ 3,  2, 23,  ..., 21,  7, 22],\n",
              "        [ 2,  6, 21,  ...,  0,  0,  0]])"
            ]
          },
          "execution_count": 7,
          "metadata": {},
          "output_type": "execute_result"
        }
      ],
      "source": [
        "X = convert_to_torch([[c for c in s] for s in df['text_in'].tolist()])\n",
        "X"
      ]
    },
    {
      "cell_type": "code",
      "execution_count": 8,
      "metadata": {
        "id": "aNmFKWcNnj9b"
      },
      "outputs": [],
      "source": [
        "class Network(torch.nn.Module):\n",
        "    def __init__(self, ):\n",
        "        super(Network, self).__init__()\n",
        "        \n",
        "        self.embeddings = torch.nn.Embedding(len(ABC), 30)\n",
        "        self.rnn = torch.nn.RNN(30, 128, batch_first=True)\n",
        "        self.out = torch.nn.Sequential(\n",
        "            torch.nn.Linear(128, 64),\n",
        "            torch.nn.ReLU(),\n",
        "            torch.nn.Dropout(0.5),\n",
        "            torch.nn.Linear(64, 28)\n",
        "        )\n",
        "    \n",
        "    def forward(self, sentences, state=None):\n",
        "        embds = self.embeddings(sentences)\n",
        "        x, s = self.rnn(embds, state)\n",
        "        result = self.out(x)\n",
        "        return result\n",
        "\n",
        "\n",
        "def generate_sentence(txt_list):\n",
        "    sentence =  [c for c in txt_list]\n",
        "    x = torch.zeros((1, len(sentence)), dtype=int).to(dev)\n",
        "\n",
        "    for j,w in enumerate(sentence):\n",
        "        if j >= MAX_S_LEN:\n",
        "            break\n",
        "        x[0, j] = CHAR_TO_INDEX.get(w, CHAR_TO_INDEX['none'])\n",
        "\n",
        "    for i in range(MAX_LEN):\n",
        "        o = model(x)\n",
        "        w = torch.argmax(o[-1, -1, :], keepdim=True)\n",
        "        x = torch.cat([x, w.unsqueeze(0)], axis=1)\n",
        "        ww = INDEX_TO_CHAR[w.item()]\n",
        "        if ww == 'none':\n",
        "            break\n",
        "\n",
        "        sentence.append(ww)\n",
        "\n",
        "    return ''.join(sentence)\n",
        "\n",
        "\n",
        "MAX_S_LEN = 100\n",
        "model = Network().to(dev)\n",
        "criterion = torch.nn.CrossEntropyLoss()\n",
        "optimizer = torch.optim.Adam(model.parameters(), lr=.0001)\n",
        "\n",
        "phrase = 'bart i do so much for you'\n"
      ]
    },
    {
      "cell_type": "code",
      "execution_count": 10,
      "metadata": {
        "colab": {
          "base_uri": "https://localhost:8080/"
        },
        "id": "OeSKfXzBn2Q8",
        "outputId": "c1e8c0cf-0703-42cf-c224-4144f828fc8e"
      },
      "outputs": [
        {
          "name": "stdout",
          "output_type": "stream",
          "text": [
            "\n",
            "Epoch 0. Time: 4.702, Train loss: 1.266\n",
            "bart i do so much for you the that the think the that in the this it the th\n",
            "Epoch 9, loss: 1.253\n",
            "Epoch 10. Time: 3.738, Train loss: 1.251\n",
            "bart i do so much for you the that the there the that i that i think the th\n",
            "Epoch 19, loss: 1.239"
          ]
        }
      ],
      "source": [
        "for ep in range(20):\n",
        "    start = time.time()\n",
        "    train_loss = 0.\n",
        "    train_passed = 0\n",
        "\n",
        "    for i in range(int(len(X) / 100)):\n",
        "        batch = X[i * 100:(i + 1) * 100]\n",
        "        X_batch = batch[:, :-1].to(dev)\n",
        "        Y_batch = batch[:, 1:].flatten().to(dev)\n",
        "\n",
        "        optimizer.zero_grad()\n",
        "        answers = model(X_batch)\n",
        "        answers = answers.view(-1, len(INDEX_TO_CHAR))\n",
        "        loss = criterion(answers, Y_batch).to(dev)\n",
        "        train_loss += loss.item()\n",
        "\n",
        "        loss.backward()\n",
        "        optimizer.step()\n",
        "        train_passed += 1\n",
        "\n",
        "    if ep%10 == 0:\n",
        "        print(\"\\nEpoch {}. Time: {:.3f}, Train loss: {:.3f}\".format(ep, time.time() - start, train_loss / train_passed))\n",
        "        s = generate_sentence(phrase)\n",
        "        print(s)\n",
        "    else:\n",
        "        print(f\"\\rEpoch {ep}, loss: {train_loss / train_passed:.3f}\", end='')\n"
      ]
    },
    {
      "cell_type": "markdown",
      "metadata": {},
      "source": [
        "#### Генерация"
      ]
    },
    {
      "cell_type": "code",
      "execution_count": 14,
      "metadata": {},
      "outputs": [
        {
          "data": {
            "text/plain": [
              "'too bad we that the been the thing the think the thin the th'"
            ]
          },
          "execution_count": 14,
          "metadata": {},
          "output_type": "execute_result"
        }
      ],
      "source": [
        "generate_sentence('too bad we')"
      ]
    }
  ],
  "metadata": {
    "accelerator": "GPU",
    "colab": {
      "gpuType": "T4",
      "provenance": []
    },
    "kernelspec": {
      "display_name": "Python 3",
      "name": "python3"
    },
    "language_info": {
      "codemirror_mode": {
        "name": "ipython",
        "version": 3
      },
      "file_extension": ".py",
      "mimetype": "text/x-python",
      "name": "python",
      "nbconvert_exporter": "python",
      "pygments_lexer": "ipython3",
      "version": "3.10.5"
    }
  },
  "nbformat": 4,
  "nbformat_minor": 0
}

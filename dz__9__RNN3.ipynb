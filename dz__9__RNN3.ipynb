{
  "cells": [
    {
      "cell_type": "code",
      "execution_count": 1,
      "metadata": {
        "id": "MIEGXF8oM9tt"
      },
      "outputs": [],
      "source": [
        "%matplotlib inline\n",
        "\n",
        "import unicodedata\n",
        "import re\n",
        "import random\n",
        "import zipfile\n",
        "\n",
        "import torch\n",
        "import torch.nn as nn\n",
        "from torch import optim\n",
        "import torch.nn.functional as F\n",
        "\n",
        "device = torch.device(\"cuda\" if torch.cuda.is_available() else \"cpu\")"
      ]
    },
    {
      "cell_type": "markdown",
      "metadata": {
        "id": "OZpaf1WUtnAW"
      },
      "source": [
        "# Prepare Data"
      ]
    },
    {
      "cell_type": "code",
      "source": [
        "with zipfile.ZipFile('rus-eng.zip') as myzip:\n",
        "    myzip.extractall()"
      ],
      "metadata": {
        "id": "ve9oM-95uLq1"
      },
      "execution_count": 3,
      "outputs": []
    },
    {
      "cell_type": "code",
      "execution_count": 4,
      "metadata": {
        "colab": {
          "base_uri": "https://localhost:8080/"
        },
        "id": "twIcAJnyRkW-",
        "outputId": "28e7284b-bff3-4b34-85e6-0d74813227a1"
      },
      "outputs": [
        {
          "output_type": "stream",
          "name": "stdout",
          "text": [
            "What'll you wear?\tЧто на тебе будет надето?\tCC-BY 2.0 (France) Attribution: tatoeba.org #6358124 (CK) & #3789846 (marafon)\n",
            " How would you know that?\tВам-то откуда это знать?\tCC-BY 2.0 (France) Attribution: tatoeba.org #2891370 (CK) & #6021929 (marafon)\n",
            " I was shocked to see how thin Tom had gotten.\tЯ ужаснулся, увидев, как Том похудел.\tCC-BY 2.0 (France) Attribution: tatoeba.org #3071718 (sharptoothed) & #3071719 (sharptoothed)\n",
            " Give me a minute.\tПодожди минуту.\tCC-BY 2.0 (France) Attribution: tatoeba.org #595454 (CK) & #3505392 (awiz)\n",
            " My whole body is sore.\tУ меня болит всё тело.\tCC-BY 2.0 (France) Attribution: tatoeba.org #273774 (CK) & #1060837 (Aleksej)\n",
            " Tom fell asleep on the train and missed the station he was going to get off at.\tТом уснул в поезде и проехал остановку, на которой собирался выходить.\tCC-BY 2.0 (France) Attribution: tatoeba.org #8578215 (CK) & #8640016 (marafon)\n",
            " The ice was thick enough to walk on.\tЛёд был достаточно толстый, чтобы по нему можно было ходить.\tCC-BY 2.0 (France) Attribution: tatoeba.org #1440047 (CK) & #8564587 (marafon)\n",
            " Tom asked Mary for a divorce.\tТом попросил Мэри о разводе.\tCC-BY 2.0 (France) Attribution: tatoeba.org #1029736 (CK) & #5658223 (odexed)\n",
            " Ask me any question and I'll try to answer it.\tЗадайте мне любой вопрос, и я постараюсь на него ответить.\tCC-BY 2.0 (France) Attribution: tatoeba.org #8506210 (CK) & #8615710 (marafon)\n",
            " Tom didn't know whether he was right or wrong.\tТом не знал, был ли он прав или ошибался.\tCC-BY 2.0 (France) Attribution: tatoeba.org #2400131 (CK) & #2556467 (paul_lingvo)\n",
            "\n"
          ]
        }
      ],
      "source": [
        "with open('rus-eng/rus.txt', encoding='utf-8') as file:\n",
        "    lines = file.readlines()\n",
        "    print(*random.sample(lines, 10))"
      ]
    },
    {
      "cell_type": "code",
      "execution_count": 5,
      "metadata": {
        "id": "tWa0KkGutnAb"
      },
      "outputs": [],
      "source": [
        "with open('rus-eng/eng-rus.txt', 'w', encoding='utf-8') as file:\n",
        "    for line in lines:\n",
        "        stripped = line.split('\\t')\n",
        "        file.write(stripped[0] + '\\t' + stripped[1] + '\\n')"
      ]
    },
    {
      "cell_type": "code",
      "execution_count": 6,
      "metadata": {
        "colab": {
          "base_uri": "https://localhost:8080/"
        },
        "id": "WF3a21rhtnAc",
        "outputId": "bcf70ce8-7bae-4dcc-8823-10678e0fea03"
      },
      "outputs": [
        {
          "output_type": "stream",
          "name": "stdout",
          "text": [
            "Tom ran to his room, crying.\tТом с плачем побежал к себе в комнату.\n",
            " The thick fog made it impossible to see the building.\tИз-за густого тумана было невозможно разглядеть здание.\n",
            " They each received a present.\tКаждая получила подарок.\n",
            " Don't beat yourself up.\tНе казнись.\n",
            " Thank you for your trouble.\tСпасибо за беспокойство.\n",
            " Tom broke the record.\tТом побил рекорд.\n",
            " I'll play tennis this evening.\tЯ буду играть в теннис сегодня вечером.\n",
            " You look like you're tense.\tТы какая-то напряжённая.\n",
            " What time will you arrive?\tВо сколько вы приедете?\n",
            " Tom said he had a stomachache and left the room.\tТом сказал, что у него боль в желудке и вышел из комнаты.\n",
            "\n"
          ]
        }
      ],
      "source": [
        "with open('rus-eng/eng-rus.txt', encoding='utf-8') as file:\n",
        "    lines = file.readlines()\n",
        "    print(*random.sample(lines, 10))"
      ]
    },
    {
      "cell_type": "code",
      "execution_count": 7,
      "metadata": {
        "id": "kyNnJyruM9t1"
      },
      "outputs": [],
      "source": [
        "SOS_token = 0\n",
        "EOS_token = 1\n",
        "\n",
        "\n",
        "class Lang:\n",
        "    def __init__(self, name):\n",
        "        self.name = name\n",
        "        self.word2index = {}\n",
        "        self.word2count = {}\n",
        "        self.index2word = {0: \"SOS\", 1: \"EOS\"}\n",
        "        self.n_words = 2  # Count SOS and EOS\n",
        "\n",
        "    def addSentence(self, sentence):\n",
        "        for word in sentence.split(' '):\n",
        "            self.addWord(word)\n",
        "\n",
        "    def addWord(self, word):\n",
        "        if word not in self.word2index:\n",
        "            self.word2index[word] = self.n_words\n",
        "            self.word2count[word] = 1\n",
        "            self.index2word[self.n_words] = word\n",
        "            self.n_words += 1\n",
        "        else:\n",
        "            self.word2count[word] += 1"
      ]
    },
    {
      "cell_type": "code",
      "execution_count": 8,
      "metadata": {
        "id": "FXKs8j4bM9t6"
      },
      "outputs": [],
      "source": [
        "# Turn a Unicode string to plain ASCII, thanks to\n",
        "# http://stackoverflow.com/a/518232/2809427\n",
        "def unicodeToAscii(s):\n",
        "    return ''.join(\n",
        "        c for c in unicodedata.normalize('NFD', s)\n",
        "        if unicodedata.category(c) != 'Mn'\n",
        "    )\n",
        "\n",
        "# Lowercase, trim, and remove non-letter characters\n",
        "\n",
        "\n",
        "def normalizeString(s):\n",
        "    s = unicodeToAscii(s.lower().strip())\n",
        "    s = re.sub(r\"([.!?])\", r\" \\1\", s)\n",
        "    s = re.sub(r\"[^a-zA-Z-А-аЯ-я.!?]+\", r\" \", s)\n",
        "    return s"
      ]
    },
    {
      "cell_type": "code",
      "execution_count": 9,
      "metadata": {
        "id": "D8T4VxZeM9t-"
      },
      "outputs": [],
      "source": [
        "def readLangs(lang1, lang2, reverse=False):\n",
        "    print(\"Reading lines...\")\n",
        "\n",
        "    # Read the file and split into lines\n",
        "    lines = open('rus-eng/%s-%s.txt' % (lang1, lang2), encoding='utf-8').\\\n",
        "        read().strip().split('\\n')\n",
        "\n",
        "    # Split every line into pairs and normalize\n",
        "    pairs = [[normalizeString(s) for s in l.split('\\t')] for l in lines]\n",
        "\n",
        "    # Reverse pairs, make Lang instances\n",
        "    if reverse:\n",
        "        pairs = [list(reversed(p)) for p in pairs]\n",
        "        input_lang = Lang(lang2)\n",
        "        output_lang = Lang(lang1)\n",
        "    else:\n",
        "        input_lang = Lang(lang1)\n",
        "        output_lang = Lang(lang2)\n",
        "\n",
        "    return input_lang, output_lang, pairs"
      ]
    },
    {
      "cell_type": "code",
      "execution_count": 10,
      "metadata": {
        "id": "eBOwgEBdM9uB"
      },
      "outputs": [],
      "source": [
        "MAX_LENGTH = 10\n",
        "\n",
        "eng_prefixes = (\n",
        "    \"i am \", \"i m \",\n",
        "    \"he is\", \"he s \",\n",
        "    \"she is\", \"she s\",\n",
        "    \"you are\", \"you re \",\n",
        "    \"we are\", \"we re \",\n",
        "    \"they are\", \"they re \"\n",
        ")\n",
        "\n",
        "\n",
        "def filterPair(p):\n",
        "    return len(p[0].split(' ')) < MAX_LENGTH and \\\n",
        "        len(p[1].split(' ')) < MAX_LENGTH and \\\n",
        "        p[1].startswith(eng_prefixes)\n",
        "\n",
        "\n",
        "def filterPairs(pairs):\n",
        "    return [pair for pair in pairs if filterPair(pair)]"
      ]
    },
    {
      "cell_type": "code",
      "execution_count": 11,
      "metadata": {
        "colab": {
          "base_uri": "https://localhost:8080/"
        },
        "id": "6dZOGjd5M9uE",
        "outputId": "41ed4668-bdd6-4738-8448-7416d96b3595"
      },
      "outputs": [
        {
          "output_type": "stream",
          "name": "stdout",
          "text": [
            "Reading lines...\n",
            "Read 487600 sentence pairs\n",
            "Trimmed to 28259 sentence pairs\n",
            "Counting words...\n",
            "Counted words:\n",
            "rus 10185\n",
            "eng 4338\n",
            "['он слишком доверчив .', 'he s too trusting .']\n"
          ]
        }
      ],
      "source": [
        "def prepareData(lang1, lang2, reverse=False):\n",
        "    input_lang, output_lang, pairs = readLangs(lang1, lang2, reverse)\n",
        "    print(\"Read %s sentence pairs\" % len(pairs))\n",
        "    pairs = filterPairs(pairs)\n",
        "    print(\"Trimmed to %s sentence pairs\" % len(pairs))\n",
        "    print(\"Counting words...\")\n",
        "    for pair in pairs:\n",
        "        input_lang.addSentence(pair[0])\n",
        "        output_lang.addSentence(pair[1])\n",
        "    print(\"Counted words:\")\n",
        "    print(input_lang.name, input_lang.n_words)\n",
        "    print(output_lang.name, output_lang.n_words)\n",
        "    return input_lang, output_lang, pairs\n",
        "\n",
        "\n",
        "input_lang, output_lang, pairs = prepareData('eng', 'rus', True)\n",
        "print(random.choice(pairs))"
      ]
    },
    {
      "cell_type": "markdown",
      "metadata": {
        "id": "BpVPykxPtnAh"
      },
      "source": [
        "# Define train function"
      ]
    },
    {
      "cell_type": "code",
      "execution_count": 12,
      "metadata": {
        "id": "z6gGPtXFM9uQ"
      },
      "outputs": [],
      "source": [
        "def indexesFromSentence(lang, sentence):\n",
        "    return [lang.word2index[word] for word in sentence.split(' ')]\n",
        "\n",
        "\n",
        "def tensorFromSentence(lang, sentence):\n",
        "    indexes = indexesFromSentence(lang, sentence)\n",
        "    indexes.append(EOS_token)\n",
        "    return torch.tensor(indexes, dtype=torch.long, device=device).view(-1, 1)\n",
        "\n",
        "\n",
        "def tensorsFromPair(pair):\n",
        "    input_tensor = tensorFromSentence(input_lang, pair[0])\n",
        "    target_tensor = tensorFromSentence(output_lang, pair[1])\n",
        "    return (input_tensor, target_tensor)"
      ]
    },
    {
      "cell_type": "code",
      "execution_count": 13,
      "metadata": {
        "id": "8Fn8VDv8M9uS"
      },
      "outputs": [],
      "source": [
        "teacher_forcing_ratio = 0.5\n",
        "\n",
        "\n",
        "def train(input_tensor, target_tensor, encoder, decoder, encoder_optimizer, decoder_optimizer, criterion, max_length=MAX_LENGTH):\n",
        "    encoder_hidden = encoder.initHidden()\n",
        "\n",
        "    encoder_optimizer.zero_grad()\n",
        "    decoder_optimizer.zero_grad()\n",
        "\n",
        "    input_length = input_tensor.size(0)\n",
        "    target_length = target_tensor.size(0)\n",
        "\n",
        "    encoder_outputs = torch.zeros(max_length, encoder.hidden_size, device=device)\n",
        "\n",
        "    loss = 0\n",
        "\n",
        "    for ei in range(input_length):\n",
        "        encoder_output, encoder_hidden = encoder(\n",
        "            input_tensor[ei], encoder_hidden)\n",
        "        encoder_outputs[ei] = encoder_output[0, 0]\n",
        "\n",
        "    decoder_input = torch.tensor([[SOS_token]], device=device)\n",
        "\n",
        "    decoder_hidden = encoder_hidden\n",
        "\n",
        "    use_teacher_forcing = True if random.random() < teacher_forcing_ratio else False\n",
        "\n",
        "    if use_teacher_forcing:\n",
        "        # Teacher forcing: Feed the target as the next input\n",
        "        for di in range(target_length):\n",
        "            decoder_output, decoder_hidden = decoder(\n",
        "                decoder_input, decoder_hidden)\n",
        "            loss += criterion(decoder_output, target_tensor[di])\n",
        "            decoder_input = target_tensor[di]  # Teacher forcing\n",
        "\n",
        "    else:\n",
        "        # Without teacher forcing: use its own predictions as the next input\n",
        "        for di in range(target_length):\n",
        "            decoder_output, decoder_hidden = decoder(\n",
        "                decoder_input, decoder_hidden)\n",
        "            topv, topi = decoder_output.topk(1)\n",
        "            decoder_input = topi.squeeze().detach()  # detach from history as input\n",
        "\n",
        "            loss += criterion(decoder_output, target_tensor[di])\n",
        "            if decoder_input.item() == EOS_token:\n",
        "                break\n",
        "\n",
        "    loss.backward()\n",
        "\n",
        "    encoder_optimizer.step()\n",
        "    decoder_optimizer.step()\n",
        "\n",
        "    return loss.item() / target_length"
      ]
    },
    {
      "cell_type": "code",
      "execution_count": 14,
      "metadata": {
        "id": "EKsdwPmSM9uU"
      },
      "outputs": [],
      "source": [
        "import time\n",
        "import math\n",
        "\n",
        "\n",
        "def asMinutes(s):\n",
        "    m = math.floor(s / 60)\n",
        "    s -= m * 60\n",
        "    return '%dm %ds' % (m, s)\n",
        "\n",
        "\n",
        "def timeSince(since, percent):\n",
        "    now = time.time()\n",
        "    s = now - since\n",
        "    es = s / (percent)\n",
        "    rs = es - s\n",
        "    return '%s (- %s)' % (asMinutes(s), asMinutes(rs))"
      ]
    },
    {
      "cell_type": "code",
      "execution_count": 15,
      "metadata": {
        "id": "C_z_k5IiM9uX"
      },
      "outputs": [],
      "source": [
        "def trainIters(encoder, decoder, n_iters, print_every=1000, plot_every=100, learning_rate=0.01):\n",
        "    start = time.time()\n",
        "    plot_losses = []\n",
        "    print_loss_total = 0  # Reset every print_every\n",
        "    plot_loss_total = 0  # Reset every plot_every\n",
        "\n",
        "    encoder_optimizer = optim.SGD(encoder.parameters(), lr=learning_rate)\n",
        "    decoder_optimizer = optim.SGD(decoder.parameters(), lr=learning_rate)\n",
        "    training_pairs = [tensorsFromPair(random.choice(pairs))\n",
        "                      for i in range(n_iters)]\n",
        "    criterion = nn.NLLLoss()\n",
        "\n",
        "    for iter in range(1, n_iters + 1):\n",
        "        training_pair = training_pairs[iter - 1]\n",
        "        input_tensor = training_pair[0]\n",
        "        target_tensor = training_pair[1]\n",
        "\n",
        "        loss = train(input_tensor, target_tensor, encoder,\n",
        "                     decoder, encoder_optimizer, decoder_optimizer, criterion)\n",
        "        print_loss_total += loss\n",
        "        plot_loss_total += loss\n",
        "\n",
        "        if iter % print_every == 0:\n",
        "            print_loss_avg = print_loss_total / print_every\n",
        "            print_loss_total = 0\n",
        "            print('%s (%d %d%%) %.4f' % (timeSince(start, iter / n_iters),\n",
        "                                         iter, iter / n_iters * 100, print_loss_avg))\n",
        "\n",
        "        if iter % plot_every == 0:\n",
        "            plot_loss_avg = plot_loss_total / plot_every\n",
        "            plot_losses.append(plot_loss_avg)\n",
        "            plot_loss_total = 0\n",
        "\n",
        "    showPlot(plot_losses)"
      ]
    },
    {
      "cell_type": "code",
      "execution_count": 16,
      "metadata": {
        "id": "0JXG-RzCM9uZ"
      },
      "outputs": [],
      "source": [
        "import matplotlib.pyplot as plt\n",
        "\n",
        "plt.switch_backend('agg')\n",
        "import matplotlib.ticker as ticker\n",
        "import numpy as np\n",
        "\n",
        "\n",
        "def showPlot(points):\n",
        "    plt.figure()\n",
        "    fig, ax = plt.subplots()\n",
        "    # this locator puts ticks at regular intervals\n",
        "    loc = ticker.MultipleLocator(base=0.2)\n",
        "    ax.yaxis.set_major_locator(loc)\n",
        "    plt.plot(points)\n",
        "    plt"
      ]
    },
    {
      "cell_type": "code",
      "execution_count": 17,
      "metadata": {
        "id": "3Bxf45h6M9ud"
      },
      "outputs": [],
      "source": [
        "def evaluate(encoder, decoder, sentence, max_length=MAX_LENGTH):\n",
        "    with torch.no_grad():\n",
        "        input_tensor = tensorFromSentence(input_lang, sentence)\n",
        "        input_length = input_tensor.size()[0]\n",
        "        encoder_hidden = encoder.initHidden()\n",
        "\n",
        "        encoder_outputs = torch.zeros(max_length, encoder.hidden_size, device=device)\n",
        "\n",
        "        for ei in range(input_length):\n",
        "            encoder_output, encoder_hidden = encoder(input_tensor[ei],\n",
        "                                                     encoder_hidden)\n",
        "            encoder_outputs[ei] += encoder_output[0, 0]\n",
        "\n",
        "        decoder_input = torch.tensor([[SOS_token]], device=device)  # SOS\n",
        "\n",
        "        decoder_hidden = encoder_hidden\n",
        "\n",
        "        decoded_words = []\n",
        "\n",
        "        for di in range(max_length):\n",
        "            decoder_output, decoder_hidden = decoder(\n",
        "                decoder_input, decoder_hidden)\n",
        "            topv, topi = decoder_output.data.topk(1)\n",
        "            if topi.item() == EOS_token:\n",
        "                decoded_words.append('<EOS>')\n",
        "                break\n",
        "            else:\n",
        "                decoded_words.append(output_lang.index2word[topi.item()])\n",
        "\n",
        "            decoder_input = topi.squeeze().detach()\n",
        "\n",
        "        return decoded_words"
      ]
    },
    {
      "cell_type": "code",
      "execution_count": 18,
      "metadata": {
        "id": "1qUmQIGwM9uf"
      },
      "outputs": [],
      "source": [
        "def evaluateRandomly(encoder, decoder, n=10):\n",
        "    for i in range(n):\n",
        "        pair = random.choice(pairs)\n",
        "        print('>', pair[0])\n",
        "        print('=', pair[1])\n",
        "        output_words = evaluate(encoder, decoder, pair[0])\n",
        "        output_sentence = ' '.join(output_words)\n",
        "        print('<', output_sentence)\n",
        "        print('')"
      ]
    },
    {
      "cell_type": "markdown",
      "metadata": {
        "id": "Oq-VPK36tnAk"
      },
      "source": [
        "# GRU 1 layer"
      ]
    },
    {
      "cell_type": "code",
      "execution_count": 19,
      "metadata": {
        "id": "m9vm9QBWM9uI"
      },
      "outputs": [],
      "source": [
        "class EncoderRNN(nn.Module):\n",
        "    def __init__(self, input_size, hidden_size):\n",
        "        super(EncoderRNN, self).__init__()\n",
        "        self.hidden_size = hidden_size\n",
        "\n",
        "        self.embedding = nn.Embedding(input_size, hidden_size)\n",
        "        self.gru = nn.GRU(hidden_size, hidden_size)\n",
        "\n",
        "    def forward(self, input, hidden):\n",
        "        embedded = self.embedding(input).view(1, 1, -1)\n",
        "        output = embedded\n",
        "        output, hidden = self.gru(output, hidden)\n",
        "        return output, hidden\n",
        "\n",
        "    def initHidden(self):\n",
        "        return torch.zeros(1, 1, self.hidden_size, device=device)"
      ]
    },
    {
      "cell_type": "code",
      "execution_count": 20,
      "metadata": {
        "id": "PFbuUL1LM9uL"
      },
      "outputs": [],
      "source": [
        "class DecoderRNN(nn.Module):\n",
        "    def __init__(self, hidden_size, output_size):\n",
        "        super(DecoderRNN, self).__init__()\n",
        "        self.hidden_size = hidden_size\n",
        "\n",
        "        self.embedding = nn.Embedding(output_size, hidden_size)\n",
        "        self.gru = nn.GRU(hidden_size, hidden_size)\n",
        "        self.out = nn.Linear(hidden_size, output_size)\n",
        "        self.softmax = nn.LogSoftmax(dim=1)\n",
        "\n",
        "    def forward(self, input, hidden):\n",
        "        output = self.embedding(input).view(1, 1, -1)\n",
        "        output = F.relu(output)\n",
        "        output, hidden = self.gru(output, hidden)\n",
        "        output = self.softmax(self.out(output[0]))\n",
        "        return output, hidden\n",
        "\n",
        "    def initHidden(self):\n",
        "        return torch.zeros(1, 1, self.hidden_size, device=device)"
      ]
    },
    {
      "cell_type": "code",
      "execution_count": 21,
      "metadata": {
        "colab": {
          "base_uri": "https://localhost:8080/"
        },
        "id": "s_56t10oM9uh",
        "outputId": "5a08505d-abfc-43e5-ebaa-cf91be23cb68"
      },
      "outputs": [
        {
          "output_type": "stream",
          "name": "stdout",
          "text": [
            "1m 3s (- 14m 46s) (5000 6%) 3.1332\n",
            "1m 58s (- 12m 52s) (10000 13%) 2.6160\n",
            "2m 55s (- 11m 42s) (15000 20%) 2.3683\n",
            "3m 53s (- 10m 41s) (20000 26%) 2.1363\n",
            "4m 49s (- 9m 39s) (25000 33%) 1.9864\n",
            "5m 45s (- 8m 38s) (30000 40%) 1.8519\n",
            "6m 42s (- 7m 39s) (35000 46%) 1.7454\n",
            "7m 39s (- 6m 42s) (40000 53%) 1.6639\n",
            "8m 38s (- 5m 45s) (45000 60%) 1.5542\n",
            "9m 35s (- 4m 47s) (50000 66%) 1.4991\n",
            "10m 33s (- 3m 50s) (55000 73%) 1.4294\n",
            "11m 31s (- 2m 52s) (60000 80%) 1.3556\n",
            "12m 27s (- 1m 54s) (65000 86%) 1.2980\n",
            "13m 25s (- 0m 57s) (70000 93%) 1.2431\n",
            "14m 21s (- 0m 0s) (75000 100%) 1.1942\n"
          ]
        }
      ],
      "source": [
        "hidden_size = 256\n",
        "encoder1 = EncoderRNN(input_lang.n_words, hidden_size).to(device)\n",
        "decoder1 = DecoderRNN(hidden_size, output_lang.n_words).to(device)\n",
        "\n",
        "trainIters(encoder1, decoder1, 75000, print_every=5000)"
      ]
    },
    {
      "cell_type": "code",
      "execution_count": 22,
      "metadata": {
        "colab": {
          "base_uri": "https://localhost:8080/"
        },
        "id": "xEoEylSyM9uj",
        "outputId": "65daab11-8b35-47f3-958a-3665af288e08"
      },
      "outputs": [
        {
          "output_type": "stream",
          "name": "stdout",
          "text": [
            "> ты мерзок !\n",
            "= you re sick !\n",
            "< you re sick ! <EOS>\n",
            "\n",
            "> я не умру .\n",
            "= i m not going to die .\n",
            "< i m not going . <EOS>\n",
            "\n",
            "> ты слишком въедливыи .\n",
            "= you re splitting hairs .\n",
            "< you re too too . <EOS>\n",
            "\n",
            "> мы здесь работаем .\n",
            "= we re working here .\n",
            "< we re working here . <EOS>\n",
            "\n",
            "> он твои друг .\n",
            "= he s your friend .\n",
            "< he s your friend . <EOS>\n",
            "\n",
            "> я горжусь тем что я канадка .\n",
            "= i m proud to be a canadian .\n",
            "< i m proud to be canadian . <EOS>\n",
            "\n",
            "> я не о тебе говорю .\n",
            "= i m not talking about you .\n",
            "< i m not talking about you . <EOS>\n",
            "\n",
            "> я уже сыт спасибо .\n",
            "= i m already full thank you .\n",
            "< i m already my friends . <EOS>\n",
            "\n",
            "> вы ведь одни ?\n",
            "= you re alone aren t you ?\n",
            "< you re alone aren t you ? <EOS>\n",
            "\n",
            "> я не очень хочу есть .\n",
            "= i m not very hungry .\n",
            "< i m not very hungry . <EOS>\n",
            "\n"
          ]
        }
      ],
      "source": [
        "evaluateRandomly(encoder1, decoder1)"
      ]
    },
    {
      "cell_type": "markdown",
      "metadata": {
        "id": "5d2MhzOXtnAn"
      },
      "source": [
        "# GRU 2 layer"
      ]
    },
    {
      "cell_type": "code",
      "execution_count": 23,
      "metadata": {
        "id": "7UW9uYqdtnAn"
      },
      "outputs": [],
      "source": [
        "class EncoderRNN(nn.Module):\n",
        "    def __init__(self, input_size, hidden_size):\n",
        "        super(EncoderRNN, self).__init__()\n",
        "        self.hidden_size = hidden_size\n",
        "\n",
        "        self.embedding = nn.Embedding(input_size, hidden_size)\n",
        "        self.gru = nn.GRU(hidden_size, hidden_size, num_layers=2)\n",
        "\n",
        "    def forward(self, input, hidden):\n",
        "        embedded = self.embedding(input).view(1, 1, -1)\n",
        "        output = embedded\n",
        "        output, hidden = self.gru(output, hidden)\n",
        "        return output, hidden\n",
        "\n",
        "    def initHidden(self):\n",
        "        return torch.zeros(2, 1, self.hidden_size, device=device)"
      ]
    },
    {
      "cell_type": "code",
      "execution_count": 24,
      "metadata": {
        "id": "vLTsnpGZtnAo"
      },
      "outputs": [],
      "source": [
        "class DecoderRNN(nn.Module):\n",
        "    def __init__(self, hidden_size, output_size):\n",
        "        super(DecoderRNN, self).__init__()\n",
        "        self.hidden_size = hidden_size\n",
        "\n",
        "        self.embedding = nn.Embedding(output_size, hidden_size)\n",
        "        self.gru = nn.GRU(hidden_size, hidden_size, num_layers=2)\n",
        "        self.out = nn.Linear(hidden_size, output_size)\n",
        "        self.softmax = nn.LogSoftmax(dim=1)\n",
        "\n",
        "    def forward(self, input, hidden):\n",
        "        output = self.embedding(input).view(1, 1, -1)\n",
        "        output = F.relu(output)\n",
        "        output, hidden = self.gru(output, hidden)\n",
        "        output = self.softmax(self.out(output[0]))\n",
        "        return output, hidden\n",
        "\n",
        "    def initHidden(self):\n",
        "        return torch.zeros(2, 1, self.hidden_size, device=device)"
      ]
    },
    {
      "cell_type": "code",
      "execution_count": null,
      "metadata": {
        "id": "cmx-7Z6_tnAo",
        "outputId": "13362c32-ca47-4b4b-9f89-6dc25265a89f"
      },
      "outputs": [
        {
          "name": "stdout",
          "output_type": "stream",
          "text": [
            "2m 54s (- 40m 36s) (5000 6%) 3.1445\n",
            "5m 23s (- 35m 2s) (10000 13%) 2.6968\n",
            "8m 2s (- 32m 11s) (15000 20%) 2.4536\n",
            "10m 20s (- 28m 25s) (20000 26%) 2.2478\n",
            "13m 0s (- 26m 0s) (25000 33%) 2.0699\n",
            "15m 31s (- 23m 16s) (30000 40%) 1.9201\n",
            "17m 57s (- 20m 31s) (35000 46%) 1.8047\n",
            "20m 32s (- 17m 58s) (40000 53%) 1.6864\n",
            "23m 7s (- 15m 25s) (45000 60%) 1.6024\n",
            "25m 30s (- 12m 45s) (50000 66%) 1.5047\n",
            "27m 59s (- 10m 10s) (55000 73%) 1.4447\n",
            "30m 31s (- 7m 37s) (60000 80%) 1.3737\n",
            "32m 57s (- 5m 4s) (65000 86%) 1.3040\n",
            "35m 15s (- 2m 31s) (70000 93%) 1.2499\n",
            "37m 17s (- 0m 0s) (75000 100%) 1.2089\n"
          ]
        }
      ],
      "source": [
        "hidden_size = 256\n",
        "encoder2 = EncoderRNN(input_lang.n_words, hidden_size).to(device)\n",
        "decoder2 = DecoderRNN(hidden_size, output_lang.n_words).to(device)\n",
        "\n",
        "trainIters(encoder2, decoder2, 75000, print_every=5000)"
      ]
    },
    {
      "cell_type": "code",
      "execution_count": null,
      "metadata": {
        "id": "pvxgsRKatnAo",
        "outputId": "25b478db-1936-4aa9-c07b-2a6b5fed7f5e"
      },
      "outputs": [
        {
          "name": "stdout",
          "output_type": "stream",
          "text": [
            "> она всего лишь ребенок .\n",
            "= she s only a child .\n",
            "< she s just a child . <EOS>\n",
            "\n",
            "> тебе повезло что тебя не пристрелили .\n",
            "= you re lucky you didn t get shot .\n",
            "< you re lucky to be late . <EOS>\n",
            "\n",
            "> мы оба очень заняты .\n",
            "= we re both very busy .\n",
            "< we re both very busy . <EOS>\n",
            "\n",
            "> я ничего не боюсь .\n",
            "= i m not frightened of anything .\n",
            "< i m not afraid of anything . <EOS>\n",
            "\n",
            "> он ботаник .\n",
            "= he s a nerd .\n",
            "< he s a beginner . <EOS>\n",
            "\n",
            "> они приступают к выполнению домашнего задания .\n",
            "= they are beginning their homework .\n",
            "< they re making their on the way . <EOS>\n",
            "\n",
            "> я иду .\n",
            "= i m coming .\n",
            "< i m coming . <EOS>\n",
            "\n",
            "> он большои и сильныи .\n",
            "= he s big and strong .\n",
            "< he s a very strong . <EOS>\n",
            "\n",
            "> ты добросовестныи .\n",
            "= you re conscientious .\n",
            "< you re a . <EOS>\n",
            "\n",
            "> я уверен что том прав .\n",
            "= i m sure tom is right .\n",
            "< i m sure tom is . <EOS>\n",
            "\n"
          ]
        }
      ],
      "source": [
        "evaluateRandomly(encoder2, decoder2)"
      ]
    },
    {
      "cell_type": "markdown",
      "metadata": {
        "id": "DYQmGtQetnAt"
      },
      "source": [
        "# LSTM 2 layers"
      ]
    },
    {
      "cell_type": "code",
      "execution_count": null,
      "metadata": {
        "id": "7q-7nOCztnAt"
      },
      "outputs": [],
      "source": [
        "class EncoderRNN(nn.Module):\n",
        "    def __init__(self, input_size, hidden_size):\n",
        "        super(EncoderRNN, self).__init__()\n",
        "        self.hidden_size = hidden_size\n",
        "\n",
        "        self.embedding = nn.Embedding(input_size, hidden_size)\n",
        "        self.lstm = nn.LSTM(hidden_size, hidden_size, num_layers=2)\n",
        "\n",
        "    def forward(self, input, hidden):\n",
        "        embedded = self.embedding(input).view(1, 1, -1)\n",
        "        output = embedded\n",
        "        output, hidden = self.lstm(output, hidden)\n",
        "        return output, hidden\n",
        "\n",
        "    def initHidden(self):\n",
        "        return (torch.zeros(2, 1, self.hidden_size, device=device), torch.zeros(2, 1, self.hidden_size, device=device))"
      ]
    },
    {
      "cell_type": "code",
      "execution_count": null,
      "metadata": {
        "id": "zIjDQI8dtnAu"
      },
      "outputs": [],
      "source": [
        "class DecoderRNN(nn.Module):\n",
        "    def __init__(self, hidden_size, output_size):\n",
        "        super(DecoderRNN, self).__init__()\n",
        "        self.hidden_size = hidden_size\n",
        "\n",
        "        self.embedding = nn.Embedding(output_size, hidden_size)\n",
        "        self.lstm = nn.LSTM(hidden_size, hidden_size, num_layers=2)\n",
        "        self.out = nn.Linear(hidden_size, output_size)\n",
        "        self.softmax = nn.LogSoftmax(dim=1)\n",
        "\n",
        "    def forward(self, input, hidden):\n",
        "        output = self.embedding(input).view(1, 1, -1)\n",
        "        output = F.relu(output)\n",
        "        output, hidden = self.lstm(output, hidden)\n",
        "        output = self.softmax(self.out(output[0]))\n",
        "        return output, hidden\n",
        "\n",
        "    def initHidden(self):\n",
        "        return (torch.zeros(2, 1, self.hidden_size, device=device), torch.zeros(2, 1, self.hidden_size, device=device))"
      ]
    },
    {
      "cell_type": "code",
      "execution_count": null,
      "metadata": {
        "id": "6PI0LKUhtnAu",
        "outputId": "dd1903c2-fa43-4514-db78-a0fda4d6a698"
      },
      "outputs": [
        {
          "name": "stdout",
          "output_type": "stream",
          "text": [
            "2m 33s (- 35m 51s) (5000 6%) 3.3465\n",
            "5m 6s (- 33m 14s) (10000 13%) 2.8510\n",
            "7m 33s (- 30m 13s) (15000 20%) 2.6657\n",
            "10m 0s (- 27m 31s) (20000 26%) 2.5466\n",
            "12m 27s (- 24m 55s) (25000 33%) 2.4033\n",
            "14m 40s (- 22m 0s) (30000 40%) 2.2665\n",
            "15m 57s (- 18m 14s) (35000 46%) 2.1525\n",
            "17m 13s (- 15m 4s) (40000 53%) 2.0654\n",
            "19m 7s (- 12m 44s) (45000 60%) 1.9323\n",
            "20m 22s (- 10m 11s) (50000 66%) 1.8848\n",
            "21m 39s (- 7m 52s) (55000 73%) 1.7928\n",
            "22m 54s (- 5m 43s) (60000 80%) 1.7223\n",
            "24m 10s (- 3m 43s) (65000 86%) 1.6378\n",
            "25m 24s (- 1m 48s) (70000 93%) 1.5477\n",
            "26m 39s (- 0m 0s) (75000 100%) 1.4955\n"
          ]
        }
      ],
      "source": [
        "hidden_size = 256\n",
        "encoder3 = EncoderRNN(input_lang.n_words, hidden_size).to(device)\n",
        "decoder3 = DecoderRNN(hidden_size, output_lang.n_words).to(device)\n",
        "\n",
        "trainIters(encoder3, decoder3, 75000, print_every=5000)"
      ]
    },
    {
      "cell_type": "code",
      "execution_count": null,
      "metadata": {
        "id": "bxzCgcSItnAv",
        "outputId": "19fde346-9527-4b67-a811-503fd5d11abe"
      },
      "outputs": [
        {
          "name": "stdout",
          "output_type": "stream",
          "text": [
            "> я доделываю уроки .\n",
            "= i m finishing my homework .\n",
            "< i m a my . . <EOS>\n",
            "\n",
            "> вы не всегда правы .\n",
            "= you re not always right .\n",
            "< you re always wrong . <EOS>\n",
            "\n",
            "> нам надо будет это проверить .\n",
            "= we re going to have to verify this .\n",
            "< we re going to have to to . . <EOS>\n",
            "\n",
            "> ты стареешь .\n",
            "= you re getting old .\n",
            "< you re the . <EOS>\n",
            "\n",
            "> я очень рад что том здесь .\n",
            "= i m happy that tom is here .\n",
            "< i m really happy happy tom here . <EOS>\n",
            "\n",
            "> ты не слушаешь .\n",
            "= you aren t listening .\n",
            "< you re not going . <EOS>\n",
            "\n",
            "> я уверен что том может это уладить .\n",
            "= i m confident tom can fix it .\n",
            "< i m sure tom tom do that . <EOS>\n",
            "\n",
            "> мы здесь ради тома .\n",
            "= we re here for tom .\n",
            "< we re here for tom . <EOS>\n",
            "\n",
            "> я уверен что вы вернетесь .\n",
            "= i m sure you ll be back .\n",
            "< i m sure you ll ll . <EOS>\n",
            "\n",
            "> ты постоянно ко мне цепляешься .\n",
            "= you re always finding fault with me .\n",
            "< you re always criticizing to me you . <EOS>\n",
            "\n"
          ]
        }
      ],
      "source": [
        "evaluateRandomly(encoder3, decoder3)"
      ]
    }
  ],
  "metadata": {
    "accelerator": "GPU",
    "colab": {
      "provenance": []
    },
    "kernelspec": {
      "display_name": "Python 3 (ipykernel)",
      "language": "python",
      "name": "python3"
    },
    "language_info": {
      "codemirror_mode": {
        "name": "ipython",
        "version": 3
      },
      "file_extension": ".py",
      "mimetype": "text/x-python",
      "name": "python",
      "nbconvert_exporter": "python",
      "pygments_lexer": "ipython3",
      "version": "3.10.5"
    }
  },
  "nbformat": 4,
  "nbformat_minor": 0
}